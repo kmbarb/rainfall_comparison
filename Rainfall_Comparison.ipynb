{
  "nbformat": 4,
  "nbformat_minor": 0,
  "metadata": {
    "colab": {
      "provenance": [],
      "authorship_tag": "ABX9TyNnCgUzvP6IlAa9jcv4mBIL",
      "include_colab_link": true
    },
    "kernelspec": {
      "name": "python3",
      "display_name": "Python 3"
    },
    "language_info": {
      "name": "python"
    }
  },
  "cells": [
    {
      "cell_type": "markdown",
      "metadata": {
        "id": "view-in-github",
        "colab_type": "text"
      },
      "source": [
        "<a href=\"https://colab.research.google.com/github/kmbarb/rainfall_comparison/blob/main/Rainfall_Comparison.ipynb\" target=\"_parent\"><img src=\"https://colab.research.google.com/assets/colab-badge.svg\" alt=\"Open In Colab\"/></a>"
      ]
    },
    {
      "cell_type": "markdown",
      "source": [
        "Importing packages/modules."
      ],
      "metadata": {
        "id": "hBvE7sqY6p-W"
      }
    },
    {
      "cell_type": "code",
      "execution_count": 141,
      "metadata": {
        "id": "ENDhi432JUzU"
      },
      "outputs": [],
      "source": [
        "import requests\n",
        "import pandas as pd\n",
        "import numpy as np\n",
        "import json\n",
        "from sqlite3 import connect"
      ]
    },
    {
      "cell_type": "markdown",
      "source": [
        "Pulling in 2022 rain data from an API."
      ],
      "metadata": {
        "id": "wFhVjr6pldF-"
      }
    },
    {
      "cell_type": "code",
      "source": [
        "hist_weather2022 = requests.get('https://archive-api.open-meteo.com/v1/archive?latitude=39.0021&longitude=-84.6793&start_date=2022-06-11&end_date=2022-07-17&daily=rain_sum&precipitation_unit=inch&timezone=America%2FNew_York')\n",
        "print(hist_weather2022.status_code)"
      ],
      "metadata": {
        "colab": {
          "base_uri": "https://localhost:8080/"
        },
        "id": "CU8m0miellSH",
        "outputId": "2c8838b7-34fa-41a2-ca18-5b6ce1f5e3dd"
      },
      "execution_count": 142,
      "outputs": [
        {
          "output_type": "stream",
          "name": "stdout",
          "text": [
            "200\n"
          ]
        }
      ]
    },
    {
      "cell_type": "markdown",
      "source": [
        "Converting to JSON."
      ],
      "metadata": {
        "id": "Uq-Xm0jM6xL4"
      }
    },
    {
      "cell_type": "code",
      "source": [
        "hw_data22 = hist_weather2022.json()"
      ],
      "metadata": {
        "id": "rKhj9I_sllbr"
      },
      "execution_count": 143,
      "outputs": []
    },
    {
      "cell_type": "markdown",
      "source": [
        "Taking a look at the JSON."
      ],
      "metadata": {
        "id": "FbXL6W5J68g0"
      }
    },
    {
      "cell_type": "code",
      "source": [
        "print(hw_data22)"
      ],
      "metadata": {
        "colab": {
          "base_uri": "https://localhost:8080/"
        },
        "id": "xqLW-a8Tlllz",
        "outputId": "0159ae07-3589-438b-d0e3-e61f4b5ba72c"
      },
      "execution_count": 144,
      "outputs": [
        {
          "output_type": "stream",
          "name": "stdout",
          "text": [
            "{'latitude': 39.0, 'longitude': -84.7, 'generationtime_ms': 0.3699064254760742, 'utc_offset_seconds': -14400, 'timezone': 'America/New_York', 'timezone_abbreviation': 'EDT', 'elevation': 261.0, 'daily_units': {'time': 'iso8601', 'rain_sum': 'inch'}, 'daily': {'time': ['2022-06-11', '2022-06-12', '2022-06-13', '2022-06-14', '2022-06-15', '2022-06-16', '2022-06-17', '2022-06-18', '2022-06-19', '2022-06-20', '2022-06-21', '2022-06-22', '2022-06-23', '2022-06-24', '2022-06-25', '2022-06-26', '2022-06-27', '2022-06-28', '2022-06-29', '2022-06-30', '2022-07-01', '2022-07-02', '2022-07-03', '2022-07-04', '2022-07-05', '2022-07-06', '2022-07-07', '2022-07-08', '2022-07-09', '2022-07-10', '2022-07-11', '2022-07-12', '2022-07-13', '2022-07-14', '2022-07-15', '2022-07-16', '2022-07-17'], 'rain_sum': [0.052, 0.343, 0.032, 0.0, 0.0, 0.031, 0.189, 0.0, 0.0, 0.0, 0.0, 0.024, 0.0, 0.0, 0.012, 0.402, 0.0, 0.0, 0.0, 0.0, 0.012, 0.02, 0.008, 0.0, 0.208, 0.044, 0.0, 0.455, 0.276, 0.0, 0.0, 0.004, 0.0, 0.0, 0.0, 0.071, 0.866]}}\n"
          ]
        }
      ]
    },
    {
      "cell_type": "markdown",
      "source": [
        "Defining my dataframe as the above JSON."
      ],
      "metadata": {
        "id": "2gR-D4t864Kx"
      }
    },
    {
      "cell_type": "code",
      "source": [
        "df22 = pd.DataFrame(data=hw_data22)\n",
        "print(df22)"
      ],
      "metadata": {
        "colab": {
          "base_uri": "https://localhost:8080/"
        },
        "outputId": "579046e1-bccd-46d8-aa00-e6ada19179ec",
        "id": "wOhL1kbamBwJ"
      },
      "execution_count": 145,
      "outputs": [
        {
          "output_type": "stream",
          "name": "stdout",
          "text": [
            "          latitude  longitude  generationtime_ms  utc_offset_seconds  \\\n",
            "time          39.0      -84.7           0.369906              -14400   \n",
            "rain_sum      39.0      -84.7           0.369906              -14400   \n",
            "\n",
            "                  timezone timezone_abbreviation  elevation daily_units  \\\n",
            "time      America/New_York                   EDT      261.0     iso8601   \n",
            "rain_sum  America/New_York                   EDT      261.0        inch   \n",
            "\n",
            "                                                      daily  \n",
            "time      [2022-06-11, 2022-06-12, 2022-06-13, 2022-06-1...  \n",
            "rain_sum  [0.052, 0.343, 0.032, 0.0, 0.0, 0.031, 0.189, ...  \n"
          ]
        }
      ]
    },
    {
      "cell_type": "markdown",
      "source": [
        "Reformatting the dataframe by converting array into list, then viewing the list."
      ],
      "metadata": {
        "id": "bQX4UkCG7aAl"
      }
    },
    {
      "cell_type": "code",
      "source": [
        "df22_list = df22[\"daily\"].tolist()\n",
        "print(df22_list)"
      ],
      "metadata": {
        "colab": {
          "base_uri": "https://localhost:8080/"
        },
        "id": "t2kM6b9arBJl",
        "outputId": "4923d84f-e9fe-44f4-cd4a-855fd4322c07"
      },
      "execution_count": 181,
      "outputs": [
        {
          "output_type": "stream",
          "name": "stdout",
          "text": [
            "[['2022-06-11', '2022-06-12', '2022-06-13', '2022-06-14', '2022-06-15', '2022-06-16', '2022-06-17', '2022-06-18', '2022-06-19', '2022-06-20', '2022-06-21', '2022-06-22', '2022-06-23', '2022-06-24', '2022-06-25', '2022-06-26', '2022-06-27', '2022-06-28', '2022-06-29', '2022-06-30', '2022-07-01', '2022-07-02', '2022-07-03', '2022-07-04', '2022-07-05', '2022-07-06', '2022-07-07', '2022-07-08', '2022-07-09', '2022-07-10', '2022-07-11', '2022-07-12', '2022-07-13', '2022-07-14', '2022-07-15', '2022-07-16', '2022-07-17'], [0.052, 0.343, 0.032, 0.0, 0.0, 0.031, 0.189, 0.0, 0.0, 0.0, 0.0, 0.024, 0.0, 0.0, 0.012, 0.402, 0.0, 0.0, 0.0, 0.0, 0.012, 0.02, 0.008, 0.0, 0.208, 0.044, 0.0, 0.455, 0.276, 0.0, 0.0, 0.004, 0.0, 0.0, 0.0, 0.071, 0.866]]\n"
          ]
        }
      ]
    },
    {
      "cell_type": "markdown",
      "source": [
        "Reformatting the dataframe and printing."
      ],
      "metadata": {
        "id": "x6WOqxgf7oTW"
      }
    },
    {
      "cell_type": "code",
      "source": [
        "time_list22 = df22_list[0]\n",
        "rain_sum_list22 = df22_list[1]\n",
        "df_hw22 = pd.DataFrame(list(zip(time_list22,rain_sum_list22)), columns=['date','rain_sum'])\n",
        "print(df_hw22)"
      ],
      "metadata": {
        "colab": {
          "base_uri": "https://localhost:8080/"
        },
        "id": "mT3pHSnill2s",
        "outputId": "2308742e-5e9a-482b-e1b3-7fae9e1b57e6"
      },
      "execution_count": 182,
      "outputs": [
        {
          "output_type": "stream",
          "name": "stdout",
          "text": [
            "          date  rain_sum\n",
            "0   2022-06-11     0.052\n",
            "1   2022-06-12     0.343\n",
            "2   2022-06-13     0.032\n",
            "3   2022-06-14     0.000\n",
            "4   2022-06-15     0.000\n",
            "5   2022-06-16     0.031\n",
            "6   2022-06-17     0.189\n",
            "7   2022-06-18     0.000\n",
            "8   2022-06-19     0.000\n",
            "9   2022-06-20     0.000\n",
            "10  2022-06-21     0.000\n",
            "11  2022-06-22     0.024\n",
            "12  2022-06-23     0.000\n",
            "13  2022-06-24     0.000\n",
            "14  2022-06-25     0.012\n",
            "15  2022-06-26     0.402\n",
            "16  2022-06-27     0.000\n",
            "17  2022-06-28     0.000\n",
            "18  2022-06-29     0.000\n",
            "19  2022-06-30     0.000\n",
            "20  2022-07-01     0.012\n",
            "21  2022-07-02     0.020\n",
            "22  2022-07-03     0.008\n",
            "23  2022-07-04     0.000\n",
            "24  2022-07-05     0.208\n",
            "25  2022-07-06     0.044\n",
            "26  2022-07-07     0.000\n",
            "27  2022-07-08     0.455\n",
            "28  2022-07-09     0.276\n",
            "29  2022-07-10     0.000\n",
            "30  2022-07-11     0.000\n",
            "31  2022-07-12     0.004\n",
            "32  2022-07-13     0.000\n",
            "33  2022-07-14     0.000\n",
            "34  2022-07-15     0.000\n",
            "35  2022-07-16     0.071\n",
            "36  2022-07-17     0.866\n"
          ]
        }
      ]
    },
    {
      "cell_type": "markdown",
      "source": [
        "Displaying the data types in the dataframe."
      ],
      "metadata": {
        "id": "v1AJ8C517zts"
      }
    },
    {
      "cell_type": "code",
      "source": [
        "df_hw22['week_date']=pd.to_datetime(df_hw22.date)\n",
        "df_hw22.dtypes"
      ],
      "metadata": {
        "colab": {
          "base_uri": "https://localhost:8080/"
        },
        "id": "wOWFovvXeTjw",
        "outputId": "26fe6981-2098-4caa-8f62-b637ea7bdf83"
      },
      "execution_count": 149,
      "outputs": [
        {
          "output_type": "execute_result",
          "data": {
            "text/plain": [
              "date                 object\n",
              "rain_sum            float64\n",
              "week_date    datetime64[ns]\n",
              "dtype: object"
            ]
          },
          "metadata": {},
          "execution_count": 149
        }
      ]
    },
    {
      "cell_type": "markdown",
      "source": [
        "Setting the index to the week_date column in preparation for resampling the date-time data and converting the frequency to weekly rather than daily."
      ],
      "metadata": {
        "id": "IbGMPLmZ759a"
      }
    },
    {
      "cell_type": "code",
      "source": [
        "df_hw22.set_index('week_date', inplace = True)\n",
        "df_hw22weekly=df_hw22.resample('W').sum()\n",
        "print(df_hw22weekly)"
      ],
      "metadata": {
        "colab": {
          "base_uri": "https://localhost:8080/"
        },
        "id": "uv3dPtWsevWh",
        "outputId": "c97eaa74-06da-4893-b0ee-48750a2551ad"
      },
      "execution_count": 150,
      "outputs": [
        {
          "output_type": "stream",
          "name": "stdout",
          "text": [
            "            rain_sum\n",
            "week_date           \n",
            "2022-06-12     0.395\n",
            "2022-06-19     0.252\n",
            "2022-06-26     0.438\n",
            "2022-07-03     0.040\n",
            "2022-07-10     0.983\n",
            "2022-07-17     0.941\n"
          ]
        },
        {
          "output_type": "stream",
          "name": "stderr",
          "text": [
            "<ipython-input-150-461123caf3c9>:2: FutureWarning: The default value of numeric_only in DataFrameGroupBy.sum is deprecated. In a future version, numeric_only will default to False. Either specify numeric_only or select only columns which should be valid for the function.\n",
            "  df_hw22weekly=df_hw22.resample('W').sum()\n"
          ]
        }
      ]
    },
    {
      "cell_type": "markdown",
      "source": [
        "Converting the dates to strings in order to remove the year portion of the string so that we can compare dates across years."
      ],
      "metadata": {
        "id": "pejotysE805q"
      }
    },
    {
      "cell_type": "code",
      "source": [
        "df_hw22weekly['month_day'] = df_hw22weekly.index\n",
        "df_hw22weekly['month_day']=df_hw22weekly['month_day'].astype(str)\n",
        "df_hw22weekly = df_hw22weekly.replace('2022-','', regex=True)\n",
        "print(df_hw22weekly)"
      ],
      "metadata": {
        "colab": {
          "base_uri": "https://localhost:8080/"
        },
        "id": "xHAffjegqfjD",
        "outputId": "c828f0c8-f56f-47b6-d90c-f585dc6e243d"
      },
      "execution_count": 151,
      "outputs": [
        {
          "output_type": "stream",
          "name": "stdout",
          "text": [
            "            rain_sum month_day\n",
            "week_date                     \n",
            "2022-06-12     0.395     06-12\n",
            "2022-06-19     0.252     06-19\n",
            "2022-06-26     0.438     06-26\n",
            "2022-07-03     0.040     07-03\n",
            "2022-07-10     0.983     07-10\n",
            "2022-07-17     0.941     07-17\n"
          ]
        }
      ]
    },
    {
      "cell_type": "markdown",
      "source": [
        "Pulling in 2023 rain data from an API."
      ],
      "metadata": {
        "id": "S9Lbw4DWJYA5"
      }
    },
    {
      "cell_type": "code",
      "source": [
        "hist_weather2023 = requests.get('https://archive-api.open-meteo.com/v1/archive?latitude=39.0021&longitude=-84.6793&start_date=2023-06-11&end_date=2023-07-16&daily=rain_sum&precipitation_unit=inch&timezone=America%2FNew_York')\n",
        "print(hist_weather2023.status_code)\n"
      ],
      "metadata": {
        "colab": {
          "base_uri": "https://localhost:8080/"
        },
        "id": "bmUojABWJZ-m",
        "outputId": "b5cb7958-4bb9-452e-8729-7f6f7f1b4f83"
      },
      "execution_count": 153,
      "outputs": [
        {
          "output_type": "stream",
          "name": "stdout",
          "text": [
            "200\n"
          ]
        }
      ]
    },
    {
      "cell_type": "markdown",
      "source": [
        "Converting to JSON."
      ],
      "metadata": {
        "id": "I54BZv-nCOCv"
      }
    },
    {
      "cell_type": "code",
      "source": [
        "hw_data23 = hist_weather2023.json()"
      ],
      "metadata": {
        "id": "uOjB6cnJJ7dj"
      },
      "execution_count": 154,
      "outputs": []
    },
    {
      "cell_type": "markdown",
      "source": [
        "Taking a look at the JSON."
      ],
      "metadata": {
        "id": "68zh7VbzCW7o"
      }
    },
    {
      "cell_type": "code",
      "source": [
        "print(hw_data23)"
      ],
      "metadata": {
        "colab": {
          "base_uri": "https://localhost:8080/"
        },
        "id": "w5cqujl-UPBS",
        "outputId": "a74b58ac-13d5-4dfa-85d1-cd649a00ec12"
      },
      "execution_count": 155,
      "outputs": [
        {
          "output_type": "stream",
          "name": "stdout",
          "text": [
            "{'latitude': 39.0, 'longitude': -84.7, 'generationtime_ms': 0.4010200500488281, 'utc_offset_seconds': -14400, 'timezone': 'America/New_York', 'timezone_abbreviation': 'EDT', 'elevation': 261.0, 'daily_units': {'time': 'iso8601', 'rain_sum': 'inch'}, 'daily': {'time': ['2023-06-11', '2023-06-12', '2023-06-13', '2023-06-14', '2023-06-15', '2023-06-16', '2023-06-17', '2023-06-18', '2023-06-19', '2023-06-20', '2023-06-21', '2023-06-22', '2023-06-23', '2023-06-24', '2023-06-25', '2023-06-26', '2023-06-27', '2023-06-28', '2023-06-29', '2023-06-30', '2023-07-01', '2023-07-02', '2023-07-03', '2023-07-04', '2023-07-05', '2023-07-06', '2023-07-07', '2023-07-08', '2023-07-09', '2023-07-10', '2023-07-11', '2023-07-12', '2023-07-13', '2023-07-14', '2023-07-15', '2023-07-16'], 'rain_sum': [0.753, 0.008, 0.012, 0.0, 0.0, 0.012, 0.0, 0.0, 0.842, 0.096, 0.044, 0.118, 0.016, 0.008, 0.039, 0.059, 0.028, 0.0, 0.012, 0.284, 0.331, 0.494, 0.088, 0.02, 0.0, 0.391, 0.0, 0.205, 0.142, 0.0, 0.0, 0.0, 0.127, 0.048, 0.992, 0.0]}}\n"
          ]
        }
      ]
    },
    {
      "cell_type": "markdown",
      "source": [
        "Defining my dataframe as the above JSON."
      ],
      "metadata": {
        "id": "_WuC6Iy8CfQB"
      }
    },
    {
      "cell_type": "code",
      "source": [
        "df23 = pd.DataFrame(data=hw_data23)\n",
        "print(df23)"
      ],
      "metadata": {
        "colab": {
          "base_uri": "https://localhost:8080/"
        },
        "id": "1aPa6ye7KIl_",
        "outputId": "74ce586e-568f-49f1-9617-963df627b292"
      },
      "execution_count": 156,
      "outputs": [
        {
          "output_type": "stream",
          "name": "stdout",
          "text": [
            "          latitude  longitude  generationtime_ms  utc_offset_seconds  \\\n",
            "time          39.0      -84.7            0.40102              -14400   \n",
            "rain_sum      39.0      -84.7            0.40102              -14400   \n",
            "\n",
            "                  timezone timezone_abbreviation  elevation daily_units  \\\n",
            "time      America/New_York                   EDT      261.0     iso8601   \n",
            "rain_sum  America/New_York                   EDT      261.0        inch   \n",
            "\n",
            "                                                      daily  \n",
            "time      [2023-06-11, 2023-06-12, 2023-06-13, 2023-06-1...  \n",
            "rain_sum  [0.753, 0.008, 0.012, 0.0, 0.0, 0.012, 0.0, 0....  \n"
          ]
        }
      ]
    },
    {
      "cell_type": "markdown",
      "source": [
        "Reformatting the dataframe by converting array into list, then viewing the list."
      ],
      "metadata": {
        "id": "6CdQDH9OCjp_"
      }
    },
    {
      "cell_type": "code",
      "source": [
        "df_list = df23[\"daily\"].tolist()\n",
        "print(df_list)"
      ],
      "metadata": {
        "colab": {
          "base_uri": "https://localhost:8080/"
        },
        "id": "bZ_I-UiyXKPw",
        "outputId": "b9c23372-36b3-4990-f5ba-2539db2129fb"
      },
      "execution_count": 157,
      "outputs": [
        {
          "output_type": "stream",
          "name": "stdout",
          "text": [
            "[['2023-06-11', '2023-06-12', '2023-06-13', '2023-06-14', '2023-06-15', '2023-06-16', '2023-06-17', '2023-06-18', '2023-06-19', '2023-06-20', '2023-06-21', '2023-06-22', '2023-06-23', '2023-06-24', '2023-06-25', '2023-06-26', '2023-06-27', '2023-06-28', '2023-06-29', '2023-06-30', '2023-07-01', '2023-07-02', '2023-07-03', '2023-07-04', '2023-07-05', '2023-07-06', '2023-07-07', '2023-07-08', '2023-07-09', '2023-07-10', '2023-07-11', '2023-07-12', '2023-07-13', '2023-07-14', '2023-07-15', '2023-07-16'], [0.753, 0.008, 0.012, 0.0, 0.0, 0.012, 0.0, 0.0, 0.842, 0.096, 0.044, 0.118, 0.016, 0.008, 0.039, 0.059, 0.028, 0.0, 0.012, 0.284, 0.331, 0.494, 0.088, 0.02, 0.0, 0.391, 0.0, 0.205, 0.142, 0.0, 0.0, 0.0, 0.127, 0.048, 0.992, 0.0]]\n"
          ]
        }
      ]
    },
    {
      "cell_type": "markdown",
      "source": [
        "Reformatting the dataframe and printing."
      ],
      "metadata": {
        "id": "YqyyRmHuCom9"
      }
    },
    {
      "cell_type": "code",
      "source": [
        "time_list = df_list[0]\n",
        "rain_sum_list = df_list[1]\n",
        "df_hw23 = pd.DataFrame(list(zip(time_list,rain_sum_list)), columns=['date','rain_sum'])\n",
        "print(df_hw23)"
      ],
      "metadata": {
        "colab": {
          "base_uri": "https://localhost:8080/"
        },
        "id": "A8V-Di0TYamU",
        "outputId": "5c02ed48-1d80-463c-ca94-444dd1da128c"
      },
      "execution_count": 158,
      "outputs": [
        {
          "output_type": "stream",
          "name": "stdout",
          "text": [
            "          date  rain_sum\n",
            "0   2023-06-11     0.753\n",
            "1   2023-06-12     0.008\n",
            "2   2023-06-13     0.012\n",
            "3   2023-06-14     0.000\n",
            "4   2023-06-15     0.000\n",
            "5   2023-06-16     0.012\n",
            "6   2023-06-17     0.000\n",
            "7   2023-06-18     0.000\n",
            "8   2023-06-19     0.842\n",
            "9   2023-06-20     0.096\n",
            "10  2023-06-21     0.044\n",
            "11  2023-06-22     0.118\n",
            "12  2023-06-23     0.016\n",
            "13  2023-06-24     0.008\n",
            "14  2023-06-25     0.039\n",
            "15  2023-06-26     0.059\n",
            "16  2023-06-27     0.028\n",
            "17  2023-06-28     0.000\n",
            "18  2023-06-29     0.012\n",
            "19  2023-06-30     0.284\n",
            "20  2023-07-01     0.331\n",
            "21  2023-07-02     0.494\n",
            "22  2023-07-03     0.088\n",
            "23  2023-07-04     0.020\n",
            "24  2023-07-05     0.000\n",
            "25  2023-07-06     0.391\n",
            "26  2023-07-07     0.000\n",
            "27  2023-07-08     0.205\n",
            "28  2023-07-09     0.142\n",
            "29  2023-07-10     0.000\n",
            "30  2023-07-11     0.000\n",
            "31  2023-07-12     0.000\n",
            "32  2023-07-13     0.127\n",
            "33  2023-07-14     0.048\n",
            "34  2023-07-15     0.992\n",
            "35  2023-07-16     0.000\n"
          ]
        }
      ]
    },
    {
      "cell_type": "markdown",
      "source": [
        "Displaying the data types in the dataframe."
      ],
      "metadata": {
        "id": "ZgK_CGs4CtUe"
      }
    },
    {
      "cell_type": "code",
      "source": [
        "df_hw23['week_date']=pd.to_datetime(df_hw23.date)\n",
        "df_hw23.dtypes"
      ],
      "metadata": {
        "colab": {
          "base_uri": "https://localhost:8080/"
        },
        "id": "9qsPjvh4Z_Kz",
        "outputId": "543d647d-2b1b-4525-fd4d-8c1322feb17c"
      },
      "execution_count": 159,
      "outputs": [
        {
          "output_type": "execute_result",
          "data": {
            "text/plain": [
              "date                 object\n",
              "rain_sum            float64\n",
              "week_date    datetime64[ns]\n",
              "dtype: object"
            ]
          },
          "metadata": {},
          "execution_count": 159
        }
      ]
    },
    {
      "cell_type": "markdown",
      "source": [
        "Setting the index to the week_date column in preparation for resampling the date-time data and converting the frequency to weekly rather than daily."
      ],
      "metadata": {
        "id": "tHAK238OC0gd"
      }
    },
    {
      "cell_type": "code",
      "source": [
        "df_hw23.set_index('week_date', inplace = True)\n",
        "df_hw23weekly = df_hw23.resample('W').sum()"
      ],
      "metadata": {
        "id": "1CIRheepa67k",
        "colab": {
          "base_uri": "https://localhost:8080/"
        },
        "outputId": "f010b51c-2e2e-498d-ce6d-cd8d9bfcd02d"
      },
      "execution_count": 160,
      "outputs": [
        {
          "output_type": "stream",
          "name": "stderr",
          "text": [
            "<ipython-input-160-cb51f11c097c>:2: FutureWarning: The default value of numeric_only in DataFrameGroupBy.sum is deprecated. In a future version, numeric_only will default to False. Either specify numeric_only or select only columns which should be valid for the function.\n",
            "  df_hw23weekly = df_hw23.resample('W').sum()\n"
          ]
        }
      ]
    },
    {
      "cell_type": "code",
      "source": [
        "print(df_hw23weekly)"
      ],
      "metadata": {
        "colab": {
          "base_uri": "https://localhost:8080/"
        },
        "id": "k6eG-PTphBra",
        "outputId": "bec0f540-0af5-4e12-b95c-bd6cccb2a87a"
      },
      "execution_count": 161,
      "outputs": [
        {
          "output_type": "stream",
          "name": "stdout",
          "text": [
            "            rain_sum\n",
            "week_date           \n",
            "2023-06-11     0.753\n",
            "2023-06-18     0.032\n",
            "2023-06-25     1.163\n",
            "2023-07-02     1.208\n",
            "2023-07-09     0.846\n",
            "2023-07-16     1.167\n"
          ]
        }
      ]
    },
    {
      "cell_type": "markdown",
      "source": [
        "Converting the dates to strings in order to remove the year portion of the string so that we can compare dates across years."
      ],
      "metadata": {
        "id": "hIyMsHUMC9wC"
      }
    },
    {
      "cell_type": "code",
      "source": [
        "df_hw23weekly['month_day'] = df_hw22weekly.index\n",
        "df_hw23weekly['month_day']=df_hw23weekly['month_day'].astype(str)\n",
        "df_hw23weekly = df_hw23weekly.replace('2022-','', regex=True)\n",
        "print(df_hw23weekly)"
      ],
      "metadata": {
        "colab": {
          "base_uri": "https://localhost:8080/"
        },
        "id": "s1YCqwOKt7Vb",
        "outputId": "b5f7472f-729d-4902-adb9-bb99056d5dea"
      },
      "execution_count": 162,
      "outputs": [
        {
          "output_type": "stream",
          "name": "stdout",
          "text": [
            "            rain_sum month_day\n",
            "week_date                     \n",
            "2023-06-11     0.753     06-12\n",
            "2023-06-18     0.032     06-19\n",
            "2023-06-25     1.163     06-26\n",
            "2023-07-02     1.208     07-03\n",
            "2023-07-09     0.846     07-10\n",
            "2023-07-16     1.167     07-17\n"
          ]
        }
      ]
    },
    {
      "cell_type": "markdown",
      "source": [
        "Creating a dictionary using the data from my personal rain gauge."
      ],
      "metadata": {
        "id": "0r0w8IjYjYQS"
      }
    },
    {
      "cell_type": "code",
      "source": [
        "gauge_data23 = {'month_day': ['07-17', '07-10', '07-03', '06-26', '06-19', '06-12'], 'rain_sum': [0.67, 0.46, 1.44, 1.52, 0.52, 1.00]}\n",
        "print(gauge_data23)"
      ],
      "metadata": {
        "colab": {
          "base_uri": "https://localhost:8080/"
        },
        "id": "VvvktbV2NrXp",
        "outputId": "ff084679-cb2b-474b-e011-beb4849a4516"
      },
      "execution_count": 171,
      "outputs": [
        {
          "output_type": "stream",
          "name": "stdout",
          "text": [
            "{'month_day': ['07-17', '07-10', '07-03', '06-26', '06-19', '06-12'], 'rain_sum': [0.67, 0.46, 1.44, 1.52, 0.52, 1.0]}\n"
          ]
        }
      ]
    },
    {
      "cell_type": "markdown",
      "source": [
        "Converting that dictionary to a dataframe."
      ],
      "metadata": {
        "id": "bxIxXNecjh7a"
      }
    },
    {
      "cell_type": "code",
      "source": [
        "gauge_df23 = pd.DataFrame.from_dict(gauge_data23)\n",
        "print(gauge_df23)"
      ],
      "metadata": {
        "id": "iQfAmY4kR_P7",
        "colab": {
          "base_uri": "https://localhost:8080/"
        },
        "outputId": "1a9bb31e-61a7-4c29-ee01-825a5b7bedae"
      },
      "execution_count": 172,
      "outputs": [
        {
          "output_type": "stream",
          "name": "stdout",
          "text": [
            "  month_day  rain_sum\n",
            "0     07-17      0.67\n",
            "1     07-10      0.46\n",
            "2     07-03      1.44\n",
            "3     06-26      1.52\n",
            "4     06-19      0.52\n",
            "5     06-12      1.00\n"
          ]
        }
      ]
    },
    {
      "cell_type": "markdown",
      "source": [
        "Making sure the dates are formatting as strings."
      ],
      "metadata": {
        "id": "aa9x_z68DC37"
      }
    },
    {
      "cell_type": "code",
      "source": [
        "gauge_df23['month_day'] = gauge_df23['month_day'].astype(str)\n",
        "print(gauge_df23)"
      ],
      "metadata": {
        "colab": {
          "base_uri": "https://localhost:8080/"
        },
        "id": "E2eAOxGn1jo1",
        "outputId": "f282e1ed-c663-4b31-c5ad-90bb391f0e23"
      },
      "execution_count": 173,
      "outputs": [
        {
          "output_type": "stream",
          "name": "stdout",
          "text": [
            "  month_day  rain_sum\n",
            "0     07-17      0.67\n",
            "1     07-10      0.46\n",
            "2     07-03      1.44\n",
            "3     06-26      1.52\n",
            "4     06-19      0.52\n",
            "5     06-12      1.00\n"
          ]
        }
      ]
    },
    {
      "cell_type": "markdown",
      "source": [
        "Connecting to SQL."
      ],
      "metadata": {
        "id": "C_Y4l4p6DGbR"
      }
    },
    {
      "cell_type": "code",
      "source": [
        "conn = connect(':memory')\n",
        "df_hw22weekly.to_sql(\"df_hw22weekly\", conn)\n",
        "df_hw23weekly.to_sql(\"df_hw23weekly\", conn)\n",
        "gauge_df23.to_sql(\"gauge_df23\", conn)\n",
        "def sql(a_string):\n",
        "  return(pd.read_sql(a_string, conn))\n"
      ],
      "metadata": {
        "id": "oKzmFCK-tX-r"
      },
      "execution_count": 175,
      "outputs": []
    },
    {
      "cell_type": "code",
      "source": [
        "sql(\"\"\"SELECT\n",
        "    *\n",
        "    FROM\n",
        "     df_hw22weeklya AS a\n",
        "    INNER JOIN\n",
        "     df_hw23weeklyb AS b\n",
        "    ON\n",
        "     a.month_day = b.month_day\n",
        "\n",
        "         \"\"\")"
      ],
      "metadata": {
        "colab": {
          "base_uri": "https://localhost:8080/",
          "height": 237
        },
        "id": "9TkkJPoArhHe",
        "outputId": "c85deb5a-3389-476b-fb64-ad0f72e7fb24"
      },
      "execution_count": 177,
      "outputs": [
        {
          "output_type": "execute_result",
          "data": {
            "text/plain": [
              "             week_date  rain_sum month_day            week_date  rain_sum  \\\n",
              "0  2022-06-12 00:00:00     0.395     06-12  2023-06-11 00:00:00     0.753   \n",
              "1  2022-06-19 00:00:00     0.252     06-19  2023-06-18 00:00:00     0.032   \n",
              "2  2022-06-26 00:00:00     0.438     06-26  2023-06-25 00:00:00     1.163   \n",
              "3  2022-07-03 00:00:00     0.040     07-03  2023-07-02 00:00:00     1.208   \n",
              "4  2022-07-10 00:00:00     0.983     07-10  2023-07-09 00:00:00     0.846   \n",
              "5  2022-07-17 00:00:00     0.941     07-17  2023-07-16 00:00:00     1.167   \n",
              "\n",
              "  month_day  \n",
              "0     06-12  \n",
              "1     06-19  \n",
              "2     06-26  \n",
              "3     07-03  \n",
              "4     07-10  \n",
              "5     07-17  "
            ],
            "text/html": [
              "\n",
              "\n",
              "  <div id=\"df-3923cb6d-b9a3-4b7e-a0d8-31abd1ffa880\">\n",
              "    <div class=\"colab-df-container\">\n",
              "      <div>\n",
              "<style scoped>\n",
              "    .dataframe tbody tr th:only-of-type {\n",
              "        vertical-align: middle;\n",
              "    }\n",
              "\n",
              "    .dataframe tbody tr th {\n",
              "        vertical-align: top;\n",
              "    }\n",
              "\n",
              "    .dataframe thead th {\n",
              "        text-align: right;\n",
              "    }\n",
              "</style>\n",
              "<table border=\"1\" class=\"dataframe\">\n",
              "  <thead>\n",
              "    <tr style=\"text-align: right;\">\n",
              "      <th></th>\n",
              "      <th>week_date</th>\n",
              "      <th>rain_sum</th>\n",
              "      <th>month_day</th>\n",
              "      <th>week_date</th>\n",
              "      <th>rain_sum</th>\n",
              "      <th>month_day</th>\n",
              "    </tr>\n",
              "  </thead>\n",
              "  <tbody>\n",
              "    <tr>\n",
              "      <th>0</th>\n",
              "      <td>2022-06-12 00:00:00</td>\n",
              "      <td>0.395</td>\n",
              "      <td>06-12</td>\n",
              "      <td>2023-06-11 00:00:00</td>\n",
              "      <td>0.753</td>\n",
              "      <td>06-12</td>\n",
              "    </tr>\n",
              "    <tr>\n",
              "      <th>1</th>\n",
              "      <td>2022-06-19 00:00:00</td>\n",
              "      <td>0.252</td>\n",
              "      <td>06-19</td>\n",
              "      <td>2023-06-18 00:00:00</td>\n",
              "      <td>0.032</td>\n",
              "      <td>06-19</td>\n",
              "    </tr>\n",
              "    <tr>\n",
              "      <th>2</th>\n",
              "      <td>2022-06-26 00:00:00</td>\n",
              "      <td>0.438</td>\n",
              "      <td>06-26</td>\n",
              "      <td>2023-06-25 00:00:00</td>\n",
              "      <td>1.163</td>\n",
              "      <td>06-26</td>\n",
              "    </tr>\n",
              "    <tr>\n",
              "      <th>3</th>\n",
              "      <td>2022-07-03 00:00:00</td>\n",
              "      <td>0.040</td>\n",
              "      <td>07-03</td>\n",
              "      <td>2023-07-02 00:00:00</td>\n",
              "      <td>1.208</td>\n",
              "      <td>07-03</td>\n",
              "    </tr>\n",
              "    <tr>\n",
              "      <th>4</th>\n",
              "      <td>2022-07-10 00:00:00</td>\n",
              "      <td>0.983</td>\n",
              "      <td>07-10</td>\n",
              "      <td>2023-07-09 00:00:00</td>\n",
              "      <td>0.846</td>\n",
              "      <td>07-10</td>\n",
              "    </tr>\n",
              "    <tr>\n",
              "      <th>5</th>\n",
              "      <td>2022-07-17 00:00:00</td>\n",
              "      <td>0.941</td>\n",
              "      <td>07-17</td>\n",
              "      <td>2023-07-16 00:00:00</td>\n",
              "      <td>1.167</td>\n",
              "      <td>07-17</td>\n",
              "    </tr>\n",
              "  </tbody>\n",
              "</table>\n",
              "</div>\n",
              "      <button class=\"colab-df-convert\" onclick=\"convertToInteractive('df-3923cb6d-b9a3-4b7e-a0d8-31abd1ffa880')\"\n",
              "              title=\"Convert this dataframe to an interactive table.\"\n",
              "              style=\"display:none;\">\n",
              "\n",
              "  <svg xmlns=\"http://www.w3.org/2000/svg\" height=\"24px\"viewBox=\"0 0 24 24\"\n",
              "       width=\"24px\">\n",
              "    <path d=\"M0 0h24v24H0V0z\" fill=\"none\"/>\n",
              "    <path d=\"M18.56 5.44l.94 2.06.94-2.06 2.06-.94-2.06-.94-.94-2.06-.94 2.06-2.06.94zm-11 1L8.5 8.5l.94-2.06 2.06-.94-2.06-.94L8.5 2.5l-.94 2.06-2.06.94zm10 10l.94 2.06.94-2.06 2.06-.94-2.06-.94-.94-2.06-.94 2.06-2.06.94z\"/><path d=\"M17.41 7.96l-1.37-1.37c-.4-.4-.92-.59-1.43-.59-.52 0-1.04.2-1.43.59L10.3 9.45l-7.72 7.72c-.78.78-.78 2.05 0 2.83L4 21.41c.39.39.9.59 1.41.59.51 0 1.02-.2 1.41-.59l7.78-7.78 2.81-2.81c.8-.78.8-2.07 0-2.86zM5.41 20L4 18.59l7.72-7.72 1.47 1.35L5.41 20z\"/>\n",
              "  </svg>\n",
              "      </button>\n",
              "\n",
              "\n",
              "\n",
              "    <div id=\"df-c8579f38-ab38-4369-bd69-cafe1f43b12b\">\n",
              "      <button class=\"colab-df-quickchart\" onclick=\"quickchart('df-c8579f38-ab38-4369-bd69-cafe1f43b12b')\"\n",
              "              title=\"Suggest charts.\"\n",
              "              style=\"display:none;\">\n",
              "\n",
              "<svg xmlns=\"http://www.w3.org/2000/svg\" height=\"24px\"viewBox=\"0 0 24 24\"\n",
              "     width=\"24px\">\n",
              "    <g>\n",
              "        <path d=\"M19 3H5c-1.1 0-2 .9-2 2v14c0 1.1.9 2 2 2h14c1.1 0 2-.9 2-2V5c0-1.1-.9-2-2-2zM9 17H7v-7h2v7zm4 0h-2V7h2v10zm4 0h-2v-4h2v4z\"/>\n",
              "    </g>\n",
              "</svg>\n",
              "      </button>\n",
              "    </div>\n",
              "\n",
              "<style>\n",
              "  .colab-df-quickchart {\n",
              "    background-color: #E8F0FE;\n",
              "    border: none;\n",
              "    border-radius: 50%;\n",
              "    cursor: pointer;\n",
              "    display: none;\n",
              "    fill: #1967D2;\n",
              "    height: 32px;\n",
              "    padding: 0 0 0 0;\n",
              "    width: 32px;\n",
              "  }\n",
              "\n",
              "  .colab-df-quickchart:hover {\n",
              "    background-color: #E2EBFA;\n",
              "    box-shadow: 0px 1px 2px rgba(60, 64, 67, 0.3), 0px 1px 3px 1px rgba(60, 64, 67, 0.15);\n",
              "    fill: #174EA6;\n",
              "  }\n",
              "\n",
              "  [theme=dark] .colab-df-quickchart {\n",
              "    background-color: #3B4455;\n",
              "    fill: #D2E3FC;\n",
              "  }\n",
              "\n",
              "  [theme=dark] .colab-df-quickchart:hover {\n",
              "    background-color: #434B5C;\n",
              "    box-shadow: 0px 1px 3px 1px rgba(0, 0, 0, 0.15);\n",
              "    filter: drop-shadow(0px 1px 2px rgba(0, 0, 0, 0.3));\n",
              "    fill: #FFFFFF;\n",
              "  }\n",
              "</style>\n",
              "\n",
              "    <script>\n",
              "      async function quickchart(key) {\n",
              "        const containerElement = document.querySelector('#' + key);\n",
              "        const charts = await google.colab.kernel.invokeFunction(\n",
              "            'suggestCharts', [key], {});\n",
              "      }\n",
              "    </script>\n",
              "\n",
              "      <script>\n",
              "\n",
              "function displayQuickchartButton(domScope) {\n",
              "  let quickchartButtonEl =\n",
              "    domScope.querySelector('#df-c8579f38-ab38-4369-bd69-cafe1f43b12b button.colab-df-quickchart');\n",
              "  quickchartButtonEl.style.display =\n",
              "    google.colab.kernel.accessAllowed ? 'block' : 'none';\n",
              "}\n",
              "\n",
              "        displayQuickchartButton(document);\n",
              "      </script>\n",
              "      <style>\n",
              "    .colab-df-container {\n",
              "      display:flex;\n",
              "      flex-wrap:wrap;\n",
              "      gap: 12px;\n",
              "    }\n",
              "\n",
              "    .colab-df-convert {\n",
              "      background-color: #E8F0FE;\n",
              "      border: none;\n",
              "      border-radius: 50%;\n",
              "      cursor: pointer;\n",
              "      display: none;\n",
              "      fill: #1967D2;\n",
              "      height: 32px;\n",
              "      padding: 0 0 0 0;\n",
              "      width: 32px;\n",
              "    }\n",
              "\n",
              "    .colab-df-convert:hover {\n",
              "      background-color: #E2EBFA;\n",
              "      box-shadow: 0px 1px 2px rgba(60, 64, 67, 0.3), 0px 1px 3px 1px rgba(60, 64, 67, 0.15);\n",
              "      fill: #174EA6;\n",
              "    }\n",
              "\n",
              "    [theme=dark] .colab-df-convert {\n",
              "      background-color: #3B4455;\n",
              "      fill: #D2E3FC;\n",
              "    }\n",
              "\n",
              "    [theme=dark] .colab-df-convert:hover {\n",
              "      background-color: #434B5C;\n",
              "      box-shadow: 0px 1px 3px 1px rgba(0, 0, 0, 0.15);\n",
              "      filter: drop-shadow(0px 1px 2px rgba(0, 0, 0, 0.3));\n",
              "      fill: #FFFFFF;\n",
              "    }\n",
              "  </style>\n",
              "\n",
              "      <script>\n",
              "        const buttonEl =\n",
              "          document.querySelector('#df-3923cb6d-b9a3-4b7e-a0d8-31abd1ffa880 button.colab-df-convert');\n",
              "        buttonEl.style.display =\n",
              "          google.colab.kernel.accessAllowed ? 'block' : 'none';\n",
              "\n",
              "        async function convertToInteractive(key) {\n",
              "          const element = document.querySelector('#df-3923cb6d-b9a3-4b7e-a0d8-31abd1ffa880');\n",
              "          const dataTable =\n",
              "            await google.colab.kernel.invokeFunction('convertToInteractive',\n",
              "                                                     [key], {});\n",
              "          if (!dataTable) return;\n",
              "\n",
              "          const docLinkHtml = 'Like what you see? Visit the ' +\n",
              "            '<a target=\"_blank\" href=https://colab.research.google.com/notebooks/data_table.ipynb>data table notebook</a>'\n",
              "            + ' to learn more about interactive tables.';\n",
              "          element.innerHTML = '';\n",
              "          dataTable['output_type'] = 'display_data';\n",
              "          await google.colab.output.renderOutput(dataTable, element);\n",
              "          const docLink = document.createElement('div');\n",
              "          docLink.innerHTML = docLinkHtml;\n",
              "          element.appendChild(docLink);\n",
              "        }\n",
              "      </script>\n",
              "    </div>\n",
              "  </div>\n"
            ]
          },
          "metadata": {},
          "execution_count": 177
        }
      ]
    }
  ]
}