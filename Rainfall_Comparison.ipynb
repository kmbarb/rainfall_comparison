{
  "nbformat": 4,
  "nbformat_minor": 0,
  "metadata": {
    "colab": {
      "provenance": [],
      "authorship_tag": "ABX9TyPWCom3J1gdA5x3305pIrpy",
      "include_colab_link": true
    },
    "kernelspec": {
      "name": "python3",
      "display_name": "Python 3"
    },
    "language_info": {
      "name": "python"
    }
  },
  "cells": [
    {
      "cell_type": "markdown",
      "metadata": {
        "id": "view-in-github",
        "colab_type": "text"
      },
      "source": [
        "<a href=\"https://colab.research.google.com/github/kmbarb/rainfall_comparison/blob/main/Rainfall_Comparison.ipynb\" target=\"_parent\"><img src=\"https://colab.research.google.com/assets/colab-badge.svg\" alt=\"Open In Colab\"/></a>"
      ]
    },
    {
      "cell_type": "markdown",
      "source": [
        "Importing packages/modules."
      ],
      "metadata": {
        "id": "hBvE7sqY6p-W"
      }
    },
    {
      "cell_type": "code",
      "execution_count": 288,
      "metadata": {
        "id": "ENDhi432JUzU"
      },
      "outputs": [],
      "source": [
        "import requests\n",
        "import warnings\n",
        "warnings.simplefilter(action='ignore', category=FutureWarning)\n",
        "import pandas as pd\n",
        "import numpy as np\n",
        "import json\n",
        "from sqlite3 import connect"
      ]
    },
    {
      "cell_type": "markdown",
      "source": [
        "Pulling in 2022 rain data from an API."
      ],
      "metadata": {
        "id": "wFhVjr6pldF-"
      }
    },
    {
      "cell_type": "code",
      "source": [
        "hist_weather2022 = requests.get('https://archive-api.open-meteo.com/v1/archive?latitude=39.0021&longitude=-84.6793&start_date=2022-06-11&end_date=2022-07-17&daily=rain_sum&precipitation_unit=inch&timezone=America%2FNew_York')\n",
        "print(hist_weather2022.status_code)"
      ],
      "metadata": {
        "colab": {
          "base_uri": "https://localhost:8080/"
        },
        "id": "CU8m0miellSH",
        "outputId": "a7650085-97d7-4c31-bd16-1ceefa7f64b5"
      },
      "execution_count": 289,
      "outputs": [
        {
          "output_type": "stream",
          "name": "stdout",
          "text": [
            "200\n"
          ]
        }
      ]
    },
    {
      "cell_type": "markdown",
      "source": [
        "Converting to JSON."
      ],
      "metadata": {
        "id": "Uq-Xm0jM6xL4"
      }
    },
    {
      "cell_type": "code",
      "source": [
        "hw_data22 = hist_weather2022.json()"
      ],
      "metadata": {
        "id": "rKhj9I_sllbr"
      },
      "execution_count": 290,
      "outputs": []
    },
    {
      "cell_type": "markdown",
      "source": [
        "Taking a look at the JSON."
      ],
      "metadata": {
        "id": "FbXL6W5J68g0"
      }
    },
    {
      "cell_type": "code",
      "source": [
        "print(hw_data22)"
      ],
      "metadata": {
        "colab": {
          "base_uri": "https://localhost:8080/"
        },
        "id": "xqLW-a8Tlllz",
        "outputId": "2ac1b2fc-2be5-4d8c-9a96-b82ab3904225"
      },
      "execution_count": 291,
      "outputs": [
        {
          "output_type": "stream",
          "name": "stdout",
          "text": [
            "{'latitude': 39.0, 'longitude': -84.7, 'generationtime_ms': 0.47004222869873047, 'utc_offset_seconds': -14400, 'timezone': 'America/New_York', 'timezone_abbreviation': 'EDT', 'elevation': 261.0, 'daily_units': {'time': 'iso8601', 'rain_sum': 'inch'}, 'daily': {'time': ['2022-06-11', '2022-06-12', '2022-06-13', '2022-06-14', '2022-06-15', '2022-06-16', '2022-06-17', '2022-06-18', '2022-06-19', '2022-06-20', '2022-06-21', '2022-06-22', '2022-06-23', '2022-06-24', '2022-06-25', '2022-06-26', '2022-06-27', '2022-06-28', '2022-06-29', '2022-06-30', '2022-07-01', '2022-07-02', '2022-07-03', '2022-07-04', '2022-07-05', '2022-07-06', '2022-07-07', '2022-07-08', '2022-07-09', '2022-07-10', '2022-07-11', '2022-07-12', '2022-07-13', '2022-07-14', '2022-07-15', '2022-07-16', '2022-07-17'], 'rain_sum': [0.052, 0.343, 0.032, 0.0, 0.0, 0.031, 0.189, 0.0, 0.0, 0.0, 0.0, 0.024, 0.0, 0.0, 0.012, 0.402, 0.0, 0.0, 0.0, 0.0, 0.012, 0.02, 0.008, 0.0, 0.208, 0.044, 0.0, 0.455, 0.276, 0.0, 0.0, 0.004, 0.0, 0.0, 0.0, 0.071, 0.866]}}\n"
          ]
        }
      ]
    },
    {
      "cell_type": "markdown",
      "source": [
        "Defining my dataframe as the above JSON."
      ],
      "metadata": {
        "id": "2gR-D4t864Kx"
      }
    },
    {
      "cell_type": "code",
      "source": [
        "df22 = pd.DataFrame(data=hw_data22)\n",
        "print(df22)"
      ],
      "metadata": {
        "colab": {
          "base_uri": "https://localhost:8080/"
        },
        "outputId": "a5c995dd-71a1-42f6-a78b-423fab7734b3",
        "id": "wOhL1kbamBwJ"
      },
      "execution_count": 292,
      "outputs": [
        {
          "output_type": "stream",
          "name": "stdout",
          "text": [
            "          latitude  longitude  generationtime_ms  utc_offset_seconds  \\\n",
            "time          39.0      -84.7           0.470042              -14400   \n",
            "rain_sum      39.0      -84.7           0.470042              -14400   \n",
            "\n",
            "                  timezone timezone_abbreviation  elevation daily_units  \\\n",
            "time      America/New_York                   EDT      261.0     iso8601   \n",
            "rain_sum  America/New_York                   EDT      261.0        inch   \n",
            "\n",
            "                                                      daily  \n",
            "time      [2022-06-11, 2022-06-12, 2022-06-13, 2022-06-1...  \n",
            "rain_sum  [0.052, 0.343, 0.032, 0.0, 0.0, 0.031, 0.189, ...  \n"
          ]
        }
      ]
    },
    {
      "cell_type": "markdown",
      "source": [
        "Reformatting the dataframe by converting array into list, then viewing the list."
      ],
      "metadata": {
        "id": "bQX4UkCG7aAl"
      }
    },
    {
      "cell_type": "code",
      "source": [
        "df22_list = df22[\"daily\"].tolist()\n",
        "print(df22_list)"
      ],
      "metadata": {
        "colab": {
          "base_uri": "https://localhost:8080/"
        },
        "id": "t2kM6b9arBJl",
        "outputId": "c0e56bca-5e97-426f-dfe4-dcf7000cae1a"
      },
      "execution_count": 293,
      "outputs": [
        {
          "output_type": "stream",
          "name": "stdout",
          "text": [
            "[['2022-06-11', '2022-06-12', '2022-06-13', '2022-06-14', '2022-06-15', '2022-06-16', '2022-06-17', '2022-06-18', '2022-06-19', '2022-06-20', '2022-06-21', '2022-06-22', '2022-06-23', '2022-06-24', '2022-06-25', '2022-06-26', '2022-06-27', '2022-06-28', '2022-06-29', '2022-06-30', '2022-07-01', '2022-07-02', '2022-07-03', '2022-07-04', '2022-07-05', '2022-07-06', '2022-07-07', '2022-07-08', '2022-07-09', '2022-07-10', '2022-07-11', '2022-07-12', '2022-07-13', '2022-07-14', '2022-07-15', '2022-07-16', '2022-07-17'], [0.052, 0.343, 0.032, 0.0, 0.0, 0.031, 0.189, 0.0, 0.0, 0.0, 0.0, 0.024, 0.0, 0.0, 0.012, 0.402, 0.0, 0.0, 0.0, 0.0, 0.012, 0.02, 0.008, 0.0, 0.208, 0.044, 0.0, 0.455, 0.276, 0.0, 0.0, 0.004, 0.0, 0.0, 0.0, 0.071, 0.866]]\n"
          ]
        }
      ]
    },
    {
      "cell_type": "markdown",
      "source": [
        "Reformatting the dataframe and printing."
      ],
      "metadata": {
        "id": "x6WOqxgf7oTW"
      }
    },
    {
      "cell_type": "code",
      "source": [
        "time_list22 = df22_list[0]\n",
        "rain_sum_list22 = df22_list[1]\n",
        "df_hw22 = pd.DataFrame(list(zip(time_list22,rain_sum_list22)), columns=['date','rain_sum22'])\n",
        "print(df_hw22)"
      ],
      "metadata": {
        "colab": {
          "base_uri": "https://localhost:8080/"
        },
        "id": "mT3pHSnill2s",
        "outputId": "22c6bf9a-2048-4a63-c70d-38e3ee717060"
      },
      "execution_count": 294,
      "outputs": [
        {
          "output_type": "stream",
          "name": "stdout",
          "text": [
            "          date  rain_sum22\n",
            "0   2022-06-11       0.052\n",
            "1   2022-06-12       0.343\n",
            "2   2022-06-13       0.032\n",
            "3   2022-06-14       0.000\n",
            "4   2022-06-15       0.000\n",
            "5   2022-06-16       0.031\n",
            "6   2022-06-17       0.189\n",
            "7   2022-06-18       0.000\n",
            "8   2022-06-19       0.000\n",
            "9   2022-06-20       0.000\n",
            "10  2022-06-21       0.000\n",
            "11  2022-06-22       0.024\n",
            "12  2022-06-23       0.000\n",
            "13  2022-06-24       0.000\n",
            "14  2022-06-25       0.012\n",
            "15  2022-06-26       0.402\n",
            "16  2022-06-27       0.000\n",
            "17  2022-06-28       0.000\n",
            "18  2022-06-29       0.000\n",
            "19  2022-06-30       0.000\n",
            "20  2022-07-01       0.012\n",
            "21  2022-07-02       0.020\n",
            "22  2022-07-03       0.008\n",
            "23  2022-07-04       0.000\n",
            "24  2022-07-05       0.208\n",
            "25  2022-07-06       0.044\n",
            "26  2022-07-07       0.000\n",
            "27  2022-07-08       0.455\n",
            "28  2022-07-09       0.276\n",
            "29  2022-07-10       0.000\n",
            "30  2022-07-11       0.000\n",
            "31  2022-07-12       0.004\n",
            "32  2022-07-13       0.000\n",
            "33  2022-07-14       0.000\n",
            "34  2022-07-15       0.000\n",
            "35  2022-07-16       0.071\n",
            "36  2022-07-17       0.866\n"
          ]
        }
      ]
    },
    {
      "cell_type": "markdown",
      "source": [
        "Displaying the data types in the dataframe."
      ],
      "metadata": {
        "id": "v1AJ8C517zts"
      }
    },
    {
      "cell_type": "code",
      "source": [
        "df_hw22['week_date']=pd.to_datetime(df_hw22.date)\n",
        "df_hw22.dtypes"
      ],
      "metadata": {
        "colab": {
          "base_uri": "https://localhost:8080/"
        },
        "id": "wOWFovvXeTjw",
        "outputId": "293dc2d7-3968-4e15-a15a-1d14ca9c19d7"
      },
      "execution_count": 295,
      "outputs": [
        {
          "output_type": "execute_result",
          "data": {
            "text/plain": [
              "date                  object\n",
              "rain_sum22           float64\n",
              "week_date     datetime64[ns]\n",
              "dtype: object"
            ]
          },
          "metadata": {},
          "execution_count": 295
        }
      ]
    },
    {
      "cell_type": "markdown",
      "source": [
        "Setting the index to the week_date column in preparation for resampling the date-time data and converting the frequency to weekly rather than daily."
      ],
      "metadata": {
        "id": "IbGMPLmZ759a"
      }
    },
    {
      "cell_type": "code",
      "source": [
        "df_hw22.set_index('week_date', inplace = True)\n",
        "df_hw22weekly=df_hw22.resample('W').sum()\n",
        "print(df_hw22weekly)"
      ],
      "metadata": {
        "colab": {
          "base_uri": "https://localhost:8080/"
        },
        "id": "uv3dPtWsevWh",
        "outputId": "12d072ea-b86c-4f32-c0aa-8c2a9c3bf748"
      },
      "execution_count": 296,
      "outputs": [
        {
          "output_type": "stream",
          "name": "stdout",
          "text": [
            "            rain_sum22\n",
            "week_date             \n",
            "2022-06-12       0.395\n",
            "2022-06-19       0.252\n",
            "2022-06-26       0.438\n",
            "2022-07-03       0.040\n",
            "2022-07-10       0.983\n",
            "2022-07-17       0.941\n"
          ]
        }
      ]
    },
    {
      "cell_type": "markdown",
      "source": [
        "Converting the dates to strings in order to remove the year portion of the string so that we can compare dates across years."
      ],
      "metadata": {
        "id": "pejotysE805q"
      }
    },
    {
      "cell_type": "code",
      "source": [
        "df_hw22weekly['month_day'] = df_hw22weekly.index\n",
        "df_hw22weekly['month_day']=df_hw22weekly['month_day'].astype(str)\n",
        "df_hw22weekly = df_hw22weekly.replace('2022-','', regex=True)\n",
        "print(df_hw22weekly)"
      ],
      "metadata": {
        "colab": {
          "base_uri": "https://localhost:8080/"
        },
        "id": "xHAffjegqfjD",
        "outputId": "6e043489-1634-45c7-dbe5-670a84149892"
      },
      "execution_count": 297,
      "outputs": [
        {
          "output_type": "stream",
          "name": "stdout",
          "text": [
            "            rain_sum22 month_day\n",
            "week_date                       \n",
            "2022-06-12       0.395     06-12\n",
            "2022-06-19       0.252     06-19\n",
            "2022-06-26       0.438     06-26\n",
            "2022-07-03       0.040     07-03\n",
            "2022-07-10       0.983     07-10\n",
            "2022-07-17       0.941     07-17\n"
          ]
        }
      ]
    },
    {
      "cell_type": "markdown",
      "source": [
        "Pulling in 2023 rain data from an API."
      ],
      "metadata": {
        "id": "S9Lbw4DWJYA5"
      }
    },
    {
      "cell_type": "code",
      "source": [
        "hist_weather2023 = requests.get('https://archive-api.open-meteo.com/v1/archive?latitude=39.0021&longitude=-84.6793&start_date=2023-06-11&end_date=2023-07-16&daily=rain_sum&precipitation_unit=inch&timezone=America%2FNew_York')\n",
        "print(hist_weather2023.status_code)\n"
      ],
      "metadata": {
        "colab": {
          "base_uri": "https://localhost:8080/"
        },
        "id": "bmUojABWJZ-m",
        "outputId": "d2a7be9b-a1ca-4c90-bb79-7cd0b485b299"
      },
      "execution_count": 298,
      "outputs": [
        {
          "output_type": "stream",
          "name": "stdout",
          "text": [
            "200\n"
          ]
        }
      ]
    },
    {
      "cell_type": "markdown",
      "source": [
        "Converting to JSON."
      ],
      "metadata": {
        "id": "I54BZv-nCOCv"
      }
    },
    {
      "cell_type": "code",
      "source": [
        "hw_data23 = hist_weather2023.json()"
      ],
      "metadata": {
        "id": "uOjB6cnJJ7dj"
      },
      "execution_count": 299,
      "outputs": []
    },
    {
      "cell_type": "markdown",
      "source": [
        "Taking a look at the JSON."
      ],
      "metadata": {
        "id": "68zh7VbzCW7o"
      }
    },
    {
      "cell_type": "code",
      "source": [
        "print(hw_data23)"
      ],
      "metadata": {
        "colab": {
          "base_uri": "https://localhost:8080/"
        },
        "id": "w5cqujl-UPBS",
        "outputId": "0f826738-4d86-401e-c82d-b8b08e0f007e"
      },
      "execution_count": 300,
      "outputs": [
        {
          "output_type": "stream",
          "name": "stdout",
          "text": [
            "{'latitude': 39.0, 'longitude': -84.7, 'generationtime_ms': 0.39696693420410156, 'utc_offset_seconds': -14400, 'timezone': 'America/New_York', 'timezone_abbreviation': 'EDT', 'elevation': 261.0, 'daily_units': {'time': 'iso8601', 'rain_sum': 'inch'}, 'daily': {'time': ['2023-06-11', '2023-06-12', '2023-06-13', '2023-06-14', '2023-06-15', '2023-06-16', '2023-06-17', '2023-06-18', '2023-06-19', '2023-06-20', '2023-06-21', '2023-06-22', '2023-06-23', '2023-06-24', '2023-06-25', '2023-06-26', '2023-06-27', '2023-06-28', '2023-06-29', '2023-06-30', '2023-07-01', '2023-07-02', '2023-07-03', '2023-07-04', '2023-07-05', '2023-07-06', '2023-07-07', '2023-07-08', '2023-07-09', '2023-07-10', '2023-07-11', '2023-07-12', '2023-07-13', '2023-07-14', '2023-07-15', '2023-07-16'], 'rain_sum': [0.753, 0.008, 0.012, 0.0, 0.0, 0.012, 0.0, 0.0, 0.842, 0.096, 0.044, 0.118, 0.016, 0.008, 0.039, 0.059, 0.028, 0.0, 0.012, 0.284, 0.331, 0.494, 0.088, 0.02, 0.0, 0.391, 0.0, 0.205, 0.142, 0.0, 0.0, 0.0, 0.127, 0.048, 0.992, 0.0]}}\n"
          ]
        }
      ]
    },
    {
      "cell_type": "markdown",
      "source": [
        "Defining my dataframe as the above JSON."
      ],
      "metadata": {
        "id": "_WuC6Iy8CfQB"
      }
    },
    {
      "cell_type": "code",
      "source": [
        "df23 = pd.DataFrame(data=hw_data23)\n",
        "print(df23)"
      ],
      "metadata": {
        "colab": {
          "base_uri": "https://localhost:8080/"
        },
        "id": "1aPa6ye7KIl_",
        "outputId": "e29b26f5-7b74-43ce-bbac-355cf42a83c3"
      },
      "execution_count": 301,
      "outputs": [
        {
          "output_type": "stream",
          "name": "stdout",
          "text": [
            "          latitude  longitude  generationtime_ms  utc_offset_seconds  \\\n",
            "time          39.0      -84.7           0.396967              -14400   \n",
            "rain_sum      39.0      -84.7           0.396967              -14400   \n",
            "\n",
            "                  timezone timezone_abbreviation  elevation daily_units  \\\n",
            "time      America/New_York                   EDT      261.0     iso8601   \n",
            "rain_sum  America/New_York                   EDT      261.0        inch   \n",
            "\n",
            "                                                      daily  \n",
            "time      [2023-06-11, 2023-06-12, 2023-06-13, 2023-06-1...  \n",
            "rain_sum  [0.753, 0.008, 0.012, 0.0, 0.0, 0.012, 0.0, 0....  \n"
          ]
        }
      ]
    },
    {
      "cell_type": "markdown",
      "source": [
        "Reformatting the dataframe by converting array into list, then viewing the list."
      ],
      "metadata": {
        "id": "6CdQDH9OCjp_"
      }
    },
    {
      "cell_type": "code",
      "source": [
        "df_list = df23[\"daily\"].tolist()\n",
        "print(df_list)"
      ],
      "metadata": {
        "colab": {
          "base_uri": "https://localhost:8080/"
        },
        "id": "bZ_I-UiyXKPw",
        "outputId": "cef8b543-441a-48b9-c7df-99f4a78362d7"
      },
      "execution_count": 302,
      "outputs": [
        {
          "output_type": "stream",
          "name": "stdout",
          "text": [
            "[['2023-06-11', '2023-06-12', '2023-06-13', '2023-06-14', '2023-06-15', '2023-06-16', '2023-06-17', '2023-06-18', '2023-06-19', '2023-06-20', '2023-06-21', '2023-06-22', '2023-06-23', '2023-06-24', '2023-06-25', '2023-06-26', '2023-06-27', '2023-06-28', '2023-06-29', '2023-06-30', '2023-07-01', '2023-07-02', '2023-07-03', '2023-07-04', '2023-07-05', '2023-07-06', '2023-07-07', '2023-07-08', '2023-07-09', '2023-07-10', '2023-07-11', '2023-07-12', '2023-07-13', '2023-07-14', '2023-07-15', '2023-07-16'], [0.753, 0.008, 0.012, 0.0, 0.0, 0.012, 0.0, 0.0, 0.842, 0.096, 0.044, 0.118, 0.016, 0.008, 0.039, 0.059, 0.028, 0.0, 0.012, 0.284, 0.331, 0.494, 0.088, 0.02, 0.0, 0.391, 0.0, 0.205, 0.142, 0.0, 0.0, 0.0, 0.127, 0.048, 0.992, 0.0]]\n"
          ]
        }
      ]
    },
    {
      "cell_type": "markdown",
      "source": [
        "Reformatting the dataframe and printing."
      ],
      "metadata": {
        "id": "YqyyRmHuCom9"
      }
    },
    {
      "cell_type": "code",
      "source": [
        "time_list = df_list[0]\n",
        "rain_sum_list = df_list[1]\n",
        "df_hw23 = pd.DataFrame(list(zip(time_list,rain_sum_list)), columns=['date','rain_sum23a'])\n",
        "print(df_hw23)"
      ],
      "metadata": {
        "colab": {
          "base_uri": "https://localhost:8080/"
        },
        "id": "A8V-Di0TYamU",
        "outputId": "9ecc0b64-60cd-4dea-c0e6-253e0c5a53d8"
      },
      "execution_count": 303,
      "outputs": [
        {
          "output_type": "stream",
          "name": "stdout",
          "text": [
            "          date  rain_sum23a\n",
            "0   2023-06-11        0.753\n",
            "1   2023-06-12        0.008\n",
            "2   2023-06-13        0.012\n",
            "3   2023-06-14        0.000\n",
            "4   2023-06-15        0.000\n",
            "5   2023-06-16        0.012\n",
            "6   2023-06-17        0.000\n",
            "7   2023-06-18        0.000\n",
            "8   2023-06-19        0.842\n",
            "9   2023-06-20        0.096\n",
            "10  2023-06-21        0.044\n",
            "11  2023-06-22        0.118\n",
            "12  2023-06-23        0.016\n",
            "13  2023-06-24        0.008\n",
            "14  2023-06-25        0.039\n",
            "15  2023-06-26        0.059\n",
            "16  2023-06-27        0.028\n",
            "17  2023-06-28        0.000\n",
            "18  2023-06-29        0.012\n",
            "19  2023-06-30        0.284\n",
            "20  2023-07-01        0.331\n",
            "21  2023-07-02        0.494\n",
            "22  2023-07-03        0.088\n",
            "23  2023-07-04        0.020\n",
            "24  2023-07-05        0.000\n",
            "25  2023-07-06        0.391\n",
            "26  2023-07-07        0.000\n",
            "27  2023-07-08        0.205\n",
            "28  2023-07-09        0.142\n",
            "29  2023-07-10        0.000\n",
            "30  2023-07-11        0.000\n",
            "31  2023-07-12        0.000\n",
            "32  2023-07-13        0.127\n",
            "33  2023-07-14        0.048\n",
            "34  2023-07-15        0.992\n",
            "35  2023-07-16        0.000\n"
          ]
        }
      ]
    },
    {
      "cell_type": "markdown",
      "source": [
        "Displaying the data types in the dataframe."
      ],
      "metadata": {
        "id": "ZgK_CGs4CtUe"
      }
    },
    {
      "cell_type": "code",
      "source": [
        "df_hw23['week_date']=pd.to_datetime(df_hw23.date)\n",
        "df_hw23.dtypes"
      ],
      "metadata": {
        "colab": {
          "base_uri": "https://localhost:8080/"
        },
        "id": "9qsPjvh4Z_Kz",
        "outputId": "26b22e14-f060-46df-9e4e-cacf4759067a"
      },
      "execution_count": 304,
      "outputs": [
        {
          "output_type": "execute_result",
          "data": {
            "text/plain": [
              "date                   object\n",
              "rain_sum23a           float64\n",
              "week_date      datetime64[ns]\n",
              "dtype: object"
            ]
          },
          "metadata": {},
          "execution_count": 304
        }
      ]
    },
    {
      "cell_type": "markdown",
      "source": [
        "Setting the index to the week_date column in preparation for resampling the date-time data and converting the frequency to weekly rather than daily."
      ],
      "metadata": {
        "id": "tHAK238OC0gd"
      }
    },
    {
      "cell_type": "code",
      "source": [
        "df_hw23.set_index('week_date', inplace = True)\n",
        "df_hw23weekly = df_hw23.resample('W').sum()"
      ],
      "metadata": {
        "id": "1CIRheepa67k"
      },
      "execution_count": 305,
      "outputs": []
    },
    {
      "cell_type": "code",
      "source": [
        "print(df_hw23weekly)"
      ],
      "metadata": {
        "colab": {
          "base_uri": "https://localhost:8080/"
        },
        "id": "k6eG-PTphBra",
        "outputId": "51a118e9-5e55-476b-df59-313d079f8043"
      },
      "execution_count": 306,
      "outputs": [
        {
          "output_type": "stream",
          "name": "stdout",
          "text": [
            "            rain_sum23a\n",
            "week_date              \n",
            "2023-06-11        0.753\n",
            "2023-06-18        0.032\n",
            "2023-06-25        1.163\n",
            "2023-07-02        1.208\n",
            "2023-07-09        0.846\n",
            "2023-07-16        1.167\n"
          ]
        }
      ]
    },
    {
      "cell_type": "markdown",
      "source": [
        "Converting the dates to strings in order to remove the year portion of the string so that we can compare dates across years."
      ],
      "metadata": {
        "id": "hIyMsHUMC9wC"
      }
    },
    {
      "cell_type": "code",
      "source": [
        "df_hw23weekly['month_day23a'] = df_hw22weekly.index\n",
        "df_hw23weekly['month_day23a']=df_hw23weekly['month_day23a'].astype(str)\n",
        "df_hw23weekly = df_hw23weekly.replace('2022-','', regex=True)\n",
        "print(df_hw23weekly)"
      ],
      "metadata": {
        "colab": {
          "base_uri": "https://localhost:8080/"
        },
        "id": "s1YCqwOKt7Vb",
        "outputId": "f13b4d6d-952a-437d-91a7-dbb005e693e6"
      },
      "execution_count": 316,
      "outputs": [
        {
          "output_type": "stream",
          "name": "stdout",
          "text": [
            "            rain_sum23a month_day23a\n",
            "week_date                           \n",
            "2023-06-11        0.753        06-12\n",
            "2023-06-18        0.032        06-19\n",
            "2023-06-25        1.163        06-26\n",
            "2023-07-02        1.208        07-03\n",
            "2023-07-09        0.846        07-10\n",
            "2023-07-16        1.167        07-17\n"
          ]
        }
      ]
    },
    {
      "cell_type": "markdown",
      "source": [
        "Creating a dictionary using the data from my personal rain gauge."
      ],
      "metadata": {
        "id": "0r0w8IjYjYQS"
      }
    },
    {
      "cell_type": "code",
      "source": [
        "gauge_data23 = {'month_day23b': ['07-17', '07-10', '07-03', '06-26', '06-19', '06-12'], 'rain_sum23b': [0.67, 0.46, 1.44, 1.52, 0.52, 1.00]}\n",
        "print(gauge_data23)"
      ],
      "metadata": {
        "colab": {
          "base_uri": "https://localhost:8080/"
        },
        "id": "VvvktbV2NrXp",
        "outputId": "ea55a3c3-906d-456c-aabe-7bbc0399b9aa"
      },
      "execution_count": 317,
      "outputs": [
        {
          "output_type": "stream",
          "name": "stdout",
          "text": [
            "{'month_day23b': ['07-17', '07-10', '07-03', '06-26', '06-19', '06-12'], 'rain_sum23b': [0.67, 0.46, 1.44, 1.52, 0.52, 1.0]}\n"
          ]
        }
      ]
    },
    {
      "cell_type": "markdown",
      "source": [
        "Converting that dictionary to a dataframe."
      ],
      "metadata": {
        "id": "bxIxXNecjh7a"
      }
    },
    {
      "cell_type": "code",
      "source": [
        "gauge_df23 = pd.DataFrame.from_dict(gauge_data23)\n",
        "print(gauge_df23)"
      ],
      "metadata": {
        "id": "iQfAmY4kR_P7",
        "colab": {
          "base_uri": "https://localhost:8080/"
        },
        "outputId": "2ea09140-a2b1-4596-b37a-af2b76bbf6ec"
      },
      "execution_count": 318,
      "outputs": [
        {
          "output_type": "stream",
          "name": "stdout",
          "text": [
            "  month_day23b  rain_sum23b\n",
            "0        07-17         0.67\n",
            "1        07-10         0.46\n",
            "2        07-03         1.44\n",
            "3        06-26         1.52\n",
            "4        06-19         0.52\n",
            "5        06-12         1.00\n"
          ]
        }
      ]
    },
    {
      "cell_type": "markdown",
      "source": [
        "Making sure the dates are formatting as strings."
      ],
      "metadata": {
        "id": "aa9x_z68DC37"
      }
    },
    {
      "cell_type": "code",
      "source": [
        "gauge_df23['month_day23b'] = gauge_df23['month_day23b'].astype(str)\n",
        "print(gauge_df23)"
      ],
      "metadata": {
        "colab": {
          "base_uri": "https://localhost:8080/"
        },
        "id": "E2eAOxGn1jo1",
        "outputId": "63c566e8-6234-4ae1-f11b-a48ac58c5332"
      },
      "execution_count": 319,
      "outputs": [
        {
          "output_type": "stream",
          "name": "stdout",
          "text": [
            "  month_day23b  rain_sum23b\n",
            "0        07-17         0.67\n",
            "1        07-10         0.46\n",
            "2        07-03         1.44\n",
            "3        06-26         1.52\n",
            "4        06-19         0.52\n",
            "5        06-12         1.00\n"
          ]
        }
      ]
    },
    {
      "cell_type": "markdown",
      "source": [
        "Connecting to SQL."
      ],
      "metadata": {
        "id": "C_Y4l4p6DGbR"
      }
    },
    {
      "cell_type": "code",
      "source": [
        "conn = connect(':memory')\n",
        "df_hw22weekly.to_sql(\"df_hw22weeklyg\", conn)\n",
        "df_hw23weekly.to_sql(\"df_hw23weeklyg\", conn)\n",
        "gauge_df23.to_sql(\"gauge_df23g\", conn)\n",
        "def sql(a_string):\n",
        "  return(pd.read_sql(a_string, conn))\n"
      ],
      "metadata": {
        "id": "oKzmFCK-tX-r"
      },
      "execution_count": 321,
      "outputs": []
    },
    {
      "cell_type": "markdown",
      "source": [
        "Performing an SQL Join to compare all of the"
      ],
      "metadata": {
        "id": "RJjh_6oIJG9y"
      }
    },
    {
      "cell_type": "code",
      "source": [
        "sql(\"\"\"SELECT\n",
        "    a.month_day, a.rain_sum22, b.rain_sum23a, c.rain_sum23b\n",
        "    FROM\n",
        "     df_hw22weeklyg AS a\n",
        "    LEFT JOIN\n",
        "     df_hw23weeklyg AS b\n",
        "    ON\n",
        "     a.month_day = b.month_day23a\n",
        "    LEFT JOIN\n",
        "      gauge_df23g as c\n",
        "    ON b.month_day23a = c.month_day23b\n",
        "         \"\"\")"
      ],
      "metadata": {
        "colab": {
          "base_uri": "https://localhost:8080/",
          "height": 237
        },
        "id": "9TkkJPoArhHe",
        "outputId": "1b70cf64-cf05-4bea-aee3-f21a318e2ef3"
      },
      "execution_count": 322,
      "outputs": [
        {
          "output_type": "execute_result",
          "data": {
            "text/plain": [
              "  month_day  rain_sum22  rain_sum23a  rain_sum23b\n",
              "0     06-12       0.395        0.753         1.00\n",
              "1     06-19       0.252        0.032         0.52\n",
              "2     06-26       0.438        1.163         1.52\n",
              "3     07-03       0.040        1.208         1.44\n",
              "4     07-10       0.983        0.846         0.46\n",
              "5     07-17       0.941        1.167         0.67"
            ],
            "text/html": [
              "\n",
              "\n",
              "  <div id=\"df-1deeee01-3b1a-4702-b5b6-b3443c7fedbc\">\n",
              "    <div class=\"colab-df-container\">\n",
              "      <div>\n",
              "<style scoped>\n",
              "    .dataframe tbody tr th:only-of-type {\n",
              "        vertical-align: middle;\n",
              "    }\n",
              "\n",
              "    .dataframe tbody tr th {\n",
              "        vertical-align: top;\n",
              "    }\n",
              "\n",
              "    .dataframe thead th {\n",
              "        text-align: right;\n",
              "    }\n",
              "</style>\n",
              "<table border=\"1\" class=\"dataframe\">\n",
              "  <thead>\n",
              "    <tr style=\"text-align: right;\">\n",
              "      <th></th>\n",
              "      <th>month_day</th>\n",
              "      <th>rain_sum22</th>\n",
              "      <th>rain_sum23a</th>\n",
              "      <th>rain_sum23b</th>\n",
              "    </tr>\n",
              "  </thead>\n",
              "  <tbody>\n",
              "    <tr>\n",
              "      <th>0</th>\n",
              "      <td>06-12</td>\n",
              "      <td>0.395</td>\n",
              "      <td>0.753</td>\n",
              "      <td>1.00</td>\n",
              "    </tr>\n",
              "    <tr>\n",
              "      <th>1</th>\n",
              "      <td>06-19</td>\n",
              "      <td>0.252</td>\n",
              "      <td>0.032</td>\n",
              "      <td>0.52</td>\n",
              "    </tr>\n",
              "    <tr>\n",
              "      <th>2</th>\n",
              "      <td>06-26</td>\n",
              "      <td>0.438</td>\n",
              "      <td>1.163</td>\n",
              "      <td>1.52</td>\n",
              "    </tr>\n",
              "    <tr>\n",
              "      <th>3</th>\n",
              "      <td>07-03</td>\n",
              "      <td>0.040</td>\n",
              "      <td>1.208</td>\n",
              "      <td>1.44</td>\n",
              "    </tr>\n",
              "    <tr>\n",
              "      <th>4</th>\n",
              "      <td>07-10</td>\n",
              "      <td>0.983</td>\n",
              "      <td>0.846</td>\n",
              "      <td>0.46</td>\n",
              "    </tr>\n",
              "    <tr>\n",
              "      <th>5</th>\n",
              "      <td>07-17</td>\n",
              "      <td>0.941</td>\n",
              "      <td>1.167</td>\n",
              "      <td>0.67</td>\n",
              "    </tr>\n",
              "  </tbody>\n",
              "</table>\n",
              "</div>\n",
              "      <button class=\"colab-df-convert\" onclick=\"convertToInteractive('df-1deeee01-3b1a-4702-b5b6-b3443c7fedbc')\"\n",
              "              title=\"Convert this dataframe to an interactive table.\"\n",
              "              style=\"display:none;\">\n",
              "\n",
              "  <svg xmlns=\"http://www.w3.org/2000/svg\" height=\"24px\"viewBox=\"0 0 24 24\"\n",
              "       width=\"24px\">\n",
              "    <path d=\"M0 0h24v24H0V0z\" fill=\"none\"/>\n",
              "    <path d=\"M18.56 5.44l.94 2.06.94-2.06 2.06-.94-2.06-.94-.94-2.06-.94 2.06-2.06.94zm-11 1L8.5 8.5l.94-2.06 2.06-.94-2.06-.94L8.5 2.5l-.94 2.06-2.06.94zm10 10l.94 2.06.94-2.06 2.06-.94-2.06-.94-.94-2.06-.94 2.06-2.06.94z\"/><path d=\"M17.41 7.96l-1.37-1.37c-.4-.4-.92-.59-1.43-.59-.52 0-1.04.2-1.43.59L10.3 9.45l-7.72 7.72c-.78.78-.78 2.05 0 2.83L4 21.41c.39.39.9.59 1.41.59.51 0 1.02-.2 1.41-.59l7.78-7.78 2.81-2.81c.8-.78.8-2.07 0-2.86zM5.41 20L4 18.59l7.72-7.72 1.47 1.35L5.41 20z\"/>\n",
              "  </svg>\n",
              "      </button>\n",
              "\n",
              "\n",
              "\n",
              "    <div id=\"df-92b0de8a-fa6e-4d6d-8d55-97a4d0939881\">\n",
              "      <button class=\"colab-df-quickchart\" onclick=\"quickchart('df-92b0de8a-fa6e-4d6d-8d55-97a4d0939881')\"\n",
              "              title=\"Suggest charts.\"\n",
              "              style=\"display:none;\">\n",
              "\n",
              "<svg xmlns=\"http://www.w3.org/2000/svg\" height=\"24px\"viewBox=\"0 0 24 24\"\n",
              "     width=\"24px\">\n",
              "    <g>\n",
              "        <path d=\"M19 3H5c-1.1 0-2 .9-2 2v14c0 1.1.9 2 2 2h14c1.1 0 2-.9 2-2V5c0-1.1-.9-2-2-2zM9 17H7v-7h2v7zm4 0h-2V7h2v10zm4 0h-2v-4h2v4z\"/>\n",
              "    </g>\n",
              "</svg>\n",
              "      </button>\n",
              "    </div>\n",
              "\n",
              "<style>\n",
              "  .colab-df-quickchart {\n",
              "    background-color: #E8F0FE;\n",
              "    border: none;\n",
              "    border-radius: 50%;\n",
              "    cursor: pointer;\n",
              "    display: none;\n",
              "    fill: #1967D2;\n",
              "    height: 32px;\n",
              "    padding: 0 0 0 0;\n",
              "    width: 32px;\n",
              "  }\n",
              "\n",
              "  .colab-df-quickchart:hover {\n",
              "    background-color: #E2EBFA;\n",
              "    box-shadow: 0px 1px 2px rgba(60, 64, 67, 0.3), 0px 1px 3px 1px rgba(60, 64, 67, 0.15);\n",
              "    fill: #174EA6;\n",
              "  }\n",
              "\n",
              "  [theme=dark] .colab-df-quickchart {\n",
              "    background-color: #3B4455;\n",
              "    fill: #D2E3FC;\n",
              "  }\n",
              "\n",
              "  [theme=dark] .colab-df-quickchart:hover {\n",
              "    background-color: #434B5C;\n",
              "    box-shadow: 0px 1px 3px 1px rgba(0, 0, 0, 0.15);\n",
              "    filter: drop-shadow(0px 1px 2px rgba(0, 0, 0, 0.3));\n",
              "    fill: #FFFFFF;\n",
              "  }\n",
              "</style>\n",
              "\n",
              "    <script>\n",
              "      async function quickchart(key) {\n",
              "        const containerElement = document.querySelector('#' + key);\n",
              "        const charts = await google.colab.kernel.invokeFunction(\n",
              "            'suggestCharts', [key], {});\n",
              "      }\n",
              "    </script>\n",
              "\n",
              "      <script>\n",
              "\n",
              "function displayQuickchartButton(domScope) {\n",
              "  let quickchartButtonEl =\n",
              "    domScope.querySelector('#df-92b0de8a-fa6e-4d6d-8d55-97a4d0939881 button.colab-df-quickchart');\n",
              "  quickchartButtonEl.style.display =\n",
              "    google.colab.kernel.accessAllowed ? 'block' : 'none';\n",
              "}\n",
              "\n",
              "        displayQuickchartButton(document);\n",
              "      </script>\n",
              "      <style>\n",
              "    .colab-df-container {\n",
              "      display:flex;\n",
              "      flex-wrap:wrap;\n",
              "      gap: 12px;\n",
              "    }\n",
              "\n",
              "    .colab-df-convert {\n",
              "      background-color: #E8F0FE;\n",
              "      border: none;\n",
              "      border-radius: 50%;\n",
              "      cursor: pointer;\n",
              "      display: none;\n",
              "      fill: #1967D2;\n",
              "      height: 32px;\n",
              "      padding: 0 0 0 0;\n",
              "      width: 32px;\n",
              "    }\n",
              "\n",
              "    .colab-df-convert:hover {\n",
              "      background-color: #E2EBFA;\n",
              "      box-shadow: 0px 1px 2px rgba(60, 64, 67, 0.3), 0px 1px 3px 1px rgba(60, 64, 67, 0.15);\n",
              "      fill: #174EA6;\n",
              "    }\n",
              "\n",
              "    [theme=dark] .colab-df-convert {\n",
              "      background-color: #3B4455;\n",
              "      fill: #D2E3FC;\n",
              "    }\n",
              "\n",
              "    [theme=dark] .colab-df-convert:hover {\n",
              "      background-color: #434B5C;\n",
              "      box-shadow: 0px 1px 3px 1px rgba(0, 0, 0, 0.15);\n",
              "      filter: drop-shadow(0px 1px 2px rgba(0, 0, 0, 0.3));\n",
              "      fill: #FFFFFF;\n",
              "    }\n",
              "  </style>\n",
              "\n",
              "      <script>\n",
              "        const buttonEl =\n",
              "          document.querySelector('#df-1deeee01-3b1a-4702-b5b6-b3443c7fedbc button.colab-df-convert');\n",
              "        buttonEl.style.display =\n",
              "          google.colab.kernel.accessAllowed ? 'block' : 'none';\n",
              "\n",
              "        async function convertToInteractive(key) {\n",
              "          const element = document.querySelector('#df-1deeee01-3b1a-4702-b5b6-b3443c7fedbc');\n",
              "          const dataTable =\n",
              "            await google.colab.kernel.invokeFunction('convertToInteractive',\n",
              "                                                     [key], {});\n",
              "          if (!dataTable) return;\n",
              "\n",
              "          const docLinkHtml = 'Like what you see? Visit the ' +\n",
              "            '<a target=\"_blank\" href=https://colab.research.google.com/notebooks/data_table.ipynb>data table notebook</a>'\n",
              "            + ' to learn more about interactive tables.';\n",
              "          element.innerHTML = '';\n",
              "          dataTable['output_type'] = 'display_data';\n",
              "          await google.colab.output.renderOutput(dataTable, element);\n",
              "          const docLink = document.createElement('div');\n",
              "          docLink.innerHTML = docLinkHtml;\n",
              "          element.appendChild(docLink);\n",
              "        }\n",
              "      </script>\n",
              "    </div>\n",
              "  </div>\n"
            ]
          },
          "metadata": {},
          "execution_count": 322
        }
      ]
    }
  ]
}