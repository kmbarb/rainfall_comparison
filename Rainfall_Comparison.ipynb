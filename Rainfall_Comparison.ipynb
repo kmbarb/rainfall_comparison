{
  "nbformat": 4,
  "nbformat_minor": 0,
  "metadata": {
    "colab": {
      "provenance": [],
      "authorship_tag": "ABX9TyMuqpPO5IxPZAfyTgL9HYVM",
      "include_colab_link": true
    },
    "kernelspec": {
      "name": "python3",
      "display_name": "Python 3"
    },
    "language_info": {
      "name": "python"
    }
  },
  "cells": [
    {
      "cell_type": "markdown",
      "metadata": {
        "id": "view-in-github",
        "colab_type": "text"
      },
      "source": [
        "<a href=\"https://colab.research.google.com/github/kmbarb/rainfall_comparison/blob/main/Rainfall_Comparison.ipynb\" target=\"_parent\"><img src=\"https://colab.research.google.com/assets/colab-badge.svg\" alt=\"Open In Colab\"/></a>"
      ]
    },
    {
      "cell_type": "code",
      "execution_count": null,
      "metadata": {
        "id": "ENDhi432JUzU"
      },
      "outputs": [],
      "source": [
        "import requests\n",
        "import pandas as pd\n",
        "import numpy as np\n",
        "import json\n",
        "from sqlite3 import connect"
      ]
    },
    {
      "cell_type": "markdown",
      "source": [
        "Pulling in 2022 rain data from an API."
      ],
      "metadata": {
        "id": "wFhVjr6pldF-"
      }
    },
    {
      "cell_type": "code",
      "source": [
        "hist_weather2022 = requests.get('https://archive-api.open-meteo.com/v1/archive?latitude=39.0021&longitude=-84.6793&start_date=2022-06-11&end_date=2022-07-17&daily=rain_sum&precipitation_unit=inch&timezone=America%2FNew_York')\n",
        "print(hist_weather2022.status_code)"
      ],
      "metadata": {
        "colab": {
          "base_uri": "https://localhost:8080/"
        },
        "id": "CU8m0miellSH",
        "outputId": "e58f2f9a-c71f-45e9-ceeb-59766498b3eb"
      },
      "execution_count": null,
      "outputs": [
        {
          "output_type": "stream",
          "name": "stdout",
          "text": [
            "200\n"
          ]
        }
      ]
    },
    {
      "cell_type": "code",
      "source": [
        "hw_data22 = hist_weather2022.json()"
      ],
      "metadata": {
        "id": "rKhj9I_sllbr"
      },
      "execution_count": null,
      "outputs": []
    },
    {
      "cell_type": "code",
      "source": [
        "print(hw_data22)"
      ],
      "metadata": {
        "colab": {
          "base_uri": "https://localhost:8080/"
        },
        "id": "xqLW-a8Tlllz",
        "outputId": "167ed933-93ed-4152-a3e9-918aff0cf212"
      },
      "execution_count": null,
      "outputs": [
        {
          "output_type": "stream",
          "name": "stdout",
          "text": [
            "{'latitude': 39.0, 'longitude': -84.7, 'generationtime_ms': 0.3490447998046875, 'utc_offset_seconds': -14400, 'timezone': 'America/New_York', 'timezone_abbreviation': 'EDT', 'elevation': 261.0, 'daily_units': {'time': 'iso8601', 'rain_sum': 'inch'}, 'daily': {'time': ['2022-06-11', '2022-06-12', '2022-06-13', '2022-06-14', '2022-06-15', '2022-06-16', '2022-06-17', '2022-06-18', '2022-06-19', '2022-06-20', '2022-06-21', '2022-06-22', '2022-06-23', '2022-06-24', '2022-06-25', '2022-06-26', '2022-06-27', '2022-06-28', '2022-06-29', '2022-06-30', '2022-07-01', '2022-07-02', '2022-07-03', '2022-07-04', '2022-07-05', '2022-07-06', '2022-07-07', '2022-07-08', '2022-07-09', '2022-07-10', '2022-07-11', '2022-07-12', '2022-07-13', '2022-07-14', '2022-07-15', '2022-07-16', '2022-07-17'], 'rain_sum': [0.052, 0.343, 0.032, 0.0, 0.0, 0.031, 0.189, 0.0, 0.0, 0.0, 0.0, 0.024, 0.0, 0.0, 0.012, 0.402, 0.0, 0.0, 0.0, 0.0, 0.012, 0.02, 0.008, 0.0, 0.208, 0.044, 0.0, 0.455, 0.276, 0.0, 0.0, 0.004, 0.0, 0.0, 0.0, 0.071, 0.866]}}\n"
          ]
        }
      ]
    },
    {
      "cell_type": "code",
      "source": [
        "df22 = pd.DataFrame(data=hw_data22)\n",
        "print(df22)"
      ],
      "metadata": {
        "colab": {
          "base_uri": "https://localhost:8080/"
        },
        "outputId": "c1a1a335-04d3-41bf-b716-6503a11e34e5",
        "id": "wOhL1kbamBwJ"
      },
      "execution_count": null,
      "outputs": [
        {
          "output_type": "stream",
          "name": "stdout",
          "text": [
            "          latitude  longitude  generationtime_ms  utc_offset_seconds  \\\n",
            "time          39.0      -84.7           0.349045              -14400   \n",
            "rain_sum      39.0      -84.7           0.349045              -14400   \n",
            "\n",
            "                  timezone timezone_abbreviation  elevation daily_units  \\\n",
            "time      America/New_York                   EDT      261.0     iso8601   \n",
            "rain_sum  America/New_York                   EDT      261.0        inch   \n",
            "\n",
            "                                                      daily  \n",
            "time      [2022-06-11, 2022-06-12, 2022-06-13, 2022-06-1...  \n",
            "rain_sum  [0.052, 0.343, 0.032, 0.0, 0.0, 0.031, 0.189, ...  \n"
          ]
        }
      ]
    },
    {
      "cell_type": "code",
      "source": [
        "df22_list = df22[\"daily\"].tolist()\n",
        "print(df22_list)"
      ],
      "metadata": {
        "colab": {
          "base_uri": "https://localhost:8080/"
        },
        "id": "t2kM6b9arBJl",
        "outputId": "385df4eb-5c61-4bf8-def7-cd8de2c43f5e"
      },
      "execution_count": null,
      "outputs": [
        {
          "output_type": "stream",
          "name": "stdout",
          "text": [
            "[['2022-06-11', '2022-06-12', '2022-06-13', '2022-06-14', '2022-06-15', '2022-06-16', '2022-06-17', '2022-06-18', '2022-06-19', '2022-06-20', '2022-06-21', '2022-06-22', '2022-06-23', '2022-06-24', '2022-06-25', '2022-06-26', '2022-06-27', '2022-06-28', '2022-06-29', '2022-06-30', '2022-07-01', '2022-07-02', '2022-07-03', '2022-07-04', '2022-07-05', '2022-07-06', '2022-07-07', '2022-07-08', '2022-07-09', '2022-07-10', '2022-07-11', '2022-07-12', '2022-07-13', '2022-07-14', '2022-07-15', '2022-07-16', '2022-07-17'], [0.052, 0.343, 0.032, 0.0, 0.0, 0.031, 0.189, 0.0, 0.0, 0.0, 0.0, 0.024, 0.0, 0.0, 0.012, 0.402, 0.0, 0.0, 0.0, 0.0, 0.012, 0.02, 0.008, 0.0, 0.208, 0.044, 0.0, 0.455, 0.276, 0.0, 0.0, 0.004, 0.0, 0.0, 0.0, 0.071, 0.866]]\n"
          ]
        }
      ]
    },
    {
      "cell_type": "code",
      "source": [
        "df22_list = df22[\"daily\"].tolist()\n",
        "print(df22_list)"
      ],
      "metadata": {
        "colab": {
          "base_uri": "https://localhost:8080/"
        },
        "id": "bFfNBOYAqahu",
        "outputId": "0c2a05af-01b2-48d2-bb7d-b0f5dc63bb88"
      },
      "execution_count": null,
      "outputs": [
        {
          "output_type": "stream",
          "name": "stdout",
          "text": [
            "[['2022-06-11', '2022-06-12', '2022-06-13', '2022-06-14', '2022-06-15', '2022-06-16', '2022-06-17', '2022-06-18', '2022-06-19', '2022-06-20', '2022-06-21', '2022-06-22', '2022-06-23', '2022-06-24', '2022-06-25', '2022-06-26', '2022-06-27', '2022-06-28', '2022-06-29', '2022-06-30', '2022-07-01', '2022-07-02', '2022-07-03', '2022-07-04', '2022-07-05', '2022-07-06', '2022-07-07', '2022-07-08', '2022-07-09', '2022-07-10', '2022-07-11', '2022-07-12', '2022-07-13', '2022-07-14', '2022-07-15', '2022-07-16', '2022-07-17'], [0.052, 0.343, 0.032, 0.0, 0.0, 0.031, 0.189, 0.0, 0.0, 0.0, 0.0, 0.024, 0.0, 0.0, 0.012, 0.402, 0.0, 0.0, 0.0, 0.0, 0.012, 0.02, 0.008, 0.0, 0.208, 0.044, 0.0, 0.455, 0.276, 0.0, 0.0, 0.004, 0.0, 0.0, 0.0, 0.071, 0.866]]\n"
          ]
        }
      ]
    },
    {
      "cell_type": "code",
      "source": [
        "time_list22 = df22_list[0]\n",
        "rain_sum_list22 = df22_list[1]\n",
        "df_hw22 = pd.DataFrame(list(zip(time_list22,rain_sum_list22)), columns=['date','rain_sum'])\n",
        "print(df_hw22)"
      ],
      "metadata": {
        "colab": {
          "base_uri": "https://localhost:8080/"
        },
        "id": "mT3pHSnill2s",
        "outputId": "d6b4202d-319a-4969-a7f8-a5fdbb0522d8"
      },
      "execution_count": null,
      "outputs": [
        {
          "output_type": "stream",
          "name": "stdout",
          "text": [
            "          date  rain_sum\n",
            "0   2022-06-11     0.052\n",
            "1   2022-06-12     0.343\n",
            "2   2022-06-13     0.032\n",
            "3   2022-06-14     0.000\n",
            "4   2022-06-15     0.000\n",
            "5   2022-06-16     0.031\n",
            "6   2022-06-17     0.189\n",
            "7   2022-06-18     0.000\n",
            "8   2022-06-19     0.000\n",
            "9   2022-06-20     0.000\n",
            "10  2022-06-21     0.000\n",
            "11  2022-06-22     0.024\n",
            "12  2022-06-23     0.000\n",
            "13  2022-06-24     0.000\n",
            "14  2022-06-25     0.012\n",
            "15  2022-06-26     0.402\n",
            "16  2022-06-27     0.000\n",
            "17  2022-06-28     0.000\n",
            "18  2022-06-29     0.000\n",
            "19  2022-06-30     0.000\n",
            "20  2022-07-01     0.012\n",
            "21  2022-07-02     0.020\n",
            "22  2022-07-03     0.008\n",
            "23  2022-07-04     0.000\n",
            "24  2022-07-05     0.208\n",
            "25  2022-07-06     0.044\n",
            "26  2022-07-07     0.000\n",
            "27  2022-07-08     0.455\n",
            "28  2022-07-09     0.276\n",
            "29  2022-07-10     0.000\n",
            "30  2022-07-11     0.000\n",
            "31  2022-07-12     0.004\n",
            "32  2022-07-13     0.000\n",
            "33  2022-07-14     0.000\n",
            "34  2022-07-15     0.000\n",
            "35  2022-07-16     0.071\n",
            "36  2022-07-17     0.866\n"
          ]
        }
      ]
    },
    {
      "cell_type": "code",
      "source": [
        "df_hw22['week_date']=pd.to_datetime(df_hw22.date)\n",
        "df_hw22.dtypes"
      ],
      "metadata": {
        "colab": {
          "base_uri": "https://localhost:8080/"
        },
        "id": "wOWFovvXeTjw",
        "outputId": "2cab0d05-89d9-4b5c-ab50-a981d250ee1a"
      },
      "execution_count": null,
      "outputs": [
        {
          "output_type": "execute_result",
          "data": {
            "text/plain": [
              "date                 object\n",
              "rain_sum            float64\n",
              "week_date    datetime64[ns]\n",
              "dtype: object"
            ]
          },
          "metadata": {},
          "execution_count": 55
        }
      ]
    },
    {
      "cell_type": "code",
      "source": [
        "df_hw22.set_index('week_date', inplace = True)\n",
        "df_hw22weekly=df_hw22.resample('W').sum()\n",
        "print(df_hw22weekly)"
      ],
      "metadata": {
        "colab": {
          "base_uri": "https://localhost:8080/"
        },
        "id": "uv3dPtWsevWh",
        "outputId": "91e9a423-6618-4f17-dfb6-3f9bfb5e690d"
      },
      "execution_count": null,
      "outputs": [
        {
          "output_type": "stream",
          "name": "stdout",
          "text": [
            "            rain_sum\n",
            "week_date           \n",
            "2022-06-12     0.395\n",
            "2022-06-19     0.252\n",
            "2022-06-26     0.438\n",
            "2022-07-03     0.040\n",
            "2022-07-10     0.983\n",
            "2022-07-17     0.941\n"
          ]
        },
        {
          "output_type": "stream",
          "name": "stderr",
          "text": [
            "<ipython-input-56-461123caf3c9>:2: FutureWarning: The default value of numeric_only in DataFrameGroupBy.sum is deprecated. In a future version, numeric_only will default to False. Either specify numeric_only or select only columns which should be valid for the function.\n",
            "  df_hw22weekly=df_hw22.resample('W').sum()\n"
          ]
        }
      ]
    },
    {
      "cell_type": "markdown",
      "source": [
        "Pulling in 2023 rain data from an API."
      ],
      "metadata": {
        "id": "S9Lbw4DWJYA5"
      }
    },
    {
      "cell_type": "code",
      "source": [
        "hist_weather2023 = requests.get('https://archive-api.open-meteo.com/v1/archive?latitude=39.0021&longitude=-84.6793&start_date=2023-06-11&end_date=2023-07-17&daily=rain_sum&precipitation_unit=inch&timezone=America%2FNew_York')\n",
        "print(hist_weather2023.status_code)\n"
      ],
      "metadata": {
        "colab": {
          "base_uri": "https://localhost:8080/"
        },
        "id": "bmUojABWJZ-m",
        "outputId": "f7ef5c22-3bb4-4eb8-801a-7bd611b6062d"
      },
      "execution_count": null,
      "outputs": [
        {
          "output_type": "stream",
          "name": "stdout",
          "text": [
            "200\n"
          ]
        }
      ]
    },
    {
      "cell_type": "code",
      "source": [
        "hw_data23 = hist_weather2023.json()"
      ],
      "metadata": {
        "id": "uOjB6cnJJ7dj"
      },
      "execution_count": null,
      "outputs": []
    },
    {
      "cell_type": "code",
      "source": [
        "print(hw_data23)"
      ],
      "metadata": {
        "colab": {
          "base_uri": "https://localhost:8080/"
        },
        "id": "w5cqujl-UPBS",
        "outputId": "7a684522-f913-4649-d544-f18c946555f0"
      },
      "execution_count": null,
      "outputs": [
        {
          "output_type": "stream",
          "name": "stdout",
          "text": [
            "{'latitude': 39.0, 'longitude': -84.7, 'generationtime_ms': 0.42307376861572266, 'utc_offset_seconds': -14400, 'timezone': 'America/New_York', 'timezone_abbreviation': 'EDT', 'elevation': 261.0, 'daily_units': {'time': 'iso8601', 'rain_sum': 'inch'}, 'daily': {'time': ['2023-06-11', '2023-06-12', '2023-06-13', '2023-06-14', '2023-06-15', '2023-06-16', '2023-06-17', '2023-06-18', '2023-06-19', '2023-06-20', '2023-06-21', '2023-06-22', '2023-06-23', '2023-06-24', '2023-06-25', '2023-06-26', '2023-06-27', '2023-06-28', '2023-06-29', '2023-06-30', '2023-07-01', '2023-07-02', '2023-07-03', '2023-07-04', '2023-07-05', '2023-07-06', '2023-07-07', '2023-07-08', '2023-07-09', '2023-07-10', '2023-07-11', '2023-07-12', '2023-07-13', '2023-07-14', '2023-07-15', '2023-07-16', '2023-07-17'], 'rain_sum': [0.753, 0.008, 0.012, 0.0, 0.0, 0.012, 0.0, 0.0, 0.842, 0.096, 0.044, 0.118, 0.016, 0.008, 0.039, 0.059, 0.028, 0.0, 0.012, 0.284, 0.331, 0.494, 0.088, 0.02, 0.0, 0.391, 0.0, 0.205, 0.142, 0.0, 0.0, 0.0, 0.127, 0.048, 0.992, 0.0, 0.336]}}\n"
          ]
        }
      ]
    },
    {
      "cell_type": "code",
      "source": [
        "df23 = pd.DataFrame(data=hw_data23)\n",
        "print(df23)"
      ],
      "metadata": {
        "colab": {
          "base_uri": "https://localhost:8080/"
        },
        "id": "1aPa6ye7KIl_",
        "outputId": "350d1b27-6d54-4630-e2d2-eeb0f13f0305"
      },
      "execution_count": null,
      "outputs": [
        {
          "output_type": "stream",
          "name": "stdout",
          "text": [
            "          latitude  longitude  generationtime_ms  utc_offset_seconds  \\\n",
            "time          39.0      -84.7           0.423074              -14400   \n",
            "rain_sum      39.0      -84.7           0.423074              -14400   \n",
            "\n",
            "                  timezone timezone_abbreviation  elevation daily_units  \\\n",
            "time      America/New_York                   EDT      261.0     iso8601   \n",
            "rain_sum  America/New_York                   EDT      261.0        inch   \n",
            "\n",
            "                                                      daily  \n",
            "time      [2023-06-11, 2023-06-12, 2023-06-13, 2023-06-1...  \n",
            "rain_sum  [0.753, 0.008, 0.012, 0.0, 0.0, 0.012, 0.0, 0....  \n"
          ]
        }
      ]
    },
    {
      "cell_type": "code",
      "source": [
        "df_list = df23[\"daily\"].tolist()\n",
        "print(df_list)"
      ],
      "metadata": {
        "colab": {
          "base_uri": "https://localhost:8080/"
        },
        "id": "bZ_I-UiyXKPw",
        "outputId": "1be53988-dfcc-41bb-ab89-b49c6540d91a"
      },
      "execution_count": null,
      "outputs": [
        {
          "output_type": "stream",
          "name": "stdout",
          "text": [
            "[['2023-06-11', '2023-06-12', '2023-06-13', '2023-06-14', '2023-06-15', '2023-06-16', '2023-06-17', '2023-06-18', '2023-06-19', '2023-06-20', '2023-06-21', '2023-06-22', '2023-06-23', '2023-06-24', '2023-06-25', '2023-06-26', '2023-06-27', '2023-06-28', '2023-06-29', '2023-06-30', '2023-07-01', '2023-07-02', '2023-07-03', '2023-07-04', '2023-07-05', '2023-07-06', '2023-07-07', '2023-07-08', '2023-07-09', '2023-07-10', '2023-07-11', '2023-07-12', '2023-07-13', '2023-07-14', '2023-07-15', '2023-07-16', '2023-07-17'], [0.753, 0.008, 0.012, 0.0, 0.0, 0.012, 0.0, 0.0, 0.842, 0.096, 0.044, 0.118, 0.016, 0.008, 0.039, 0.059, 0.028, 0.0, 0.012, 0.284, 0.331, 0.494, 0.088, 0.02, 0.0, 0.391, 0.0, 0.205, 0.142, 0.0, 0.0, 0.0, 0.127, 0.048, 0.992, 0.0, 0.336]]\n"
          ]
        }
      ]
    },
    {
      "cell_type": "code",
      "source": [
        "time_list = df_list[0]\n",
        "rain_sum_list = df_list[1]\n",
        "df_hw23 = pd.DataFrame(list(zip(time_list,rain_sum_list)), columns=['date','rain_sum'])\n",
        "print(df_hw23)"
      ],
      "metadata": {
        "colab": {
          "base_uri": "https://localhost:8080/"
        },
        "id": "A8V-Di0TYamU",
        "outputId": "ddce9998-feec-4005-b11d-7dc128f4fb10"
      },
      "execution_count": null,
      "outputs": [
        {
          "output_type": "stream",
          "name": "stdout",
          "text": [
            "          date  rain_sum\n",
            "0   2023-06-11     0.753\n",
            "1   2023-06-12     0.008\n",
            "2   2023-06-13     0.012\n",
            "3   2023-06-14     0.000\n",
            "4   2023-06-15     0.000\n",
            "5   2023-06-16     0.012\n",
            "6   2023-06-17     0.000\n",
            "7   2023-06-18     0.000\n",
            "8   2023-06-19     0.842\n",
            "9   2023-06-20     0.096\n",
            "10  2023-06-21     0.044\n",
            "11  2023-06-22     0.118\n",
            "12  2023-06-23     0.016\n",
            "13  2023-06-24     0.008\n",
            "14  2023-06-25     0.039\n",
            "15  2023-06-26     0.059\n",
            "16  2023-06-27     0.028\n",
            "17  2023-06-28     0.000\n",
            "18  2023-06-29     0.012\n",
            "19  2023-06-30     0.284\n",
            "20  2023-07-01     0.331\n",
            "21  2023-07-02     0.494\n",
            "22  2023-07-03     0.088\n",
            "23  2023-07-04     0.020\n",
            "24  2023-07-05     0.000\n",
            "25  2023-07-06     0.391\n",
            "26  2023-07-07     0.000\n",
            "27  2023-07-08     0.205\n",
            "28  2023-07-09     0.142\n",
            "29  2023-07-10     0.000\n",
            "30  2023-07-11     0.000\n",
            "31  2023-07-12     0.000\n",
            "32  2023-07-13     0.127\n",
            "33  2023-07-14     0.048\n",
            "34  2023-07-15     0.992\n",
            "35  2023-07-16     0.000\n",
            "36  2023-07-17     0.336\n"
          ]
        }
      ]
    },
    {
      "cell_type": "code",
      "source": [
        "df_hw23['week_date']=pd.to_datetime(df_hw23.date)\n",
        "df_hw23.dtypes"
      ],
      "metadata": {
        "colab": {
          "base_uri": "https://localhost:8080/"
        },
        "id": "9qsPjvh4Z_Kz",
        "outputId": "029de06d-c6c8-4f7e-a666-82de97525b53"
      },
      "execution_count": null,
      "outputs": [
        {
          "output_type": "execute_result",
          "data": {
            "text/plain": [
              "date                 object\n",
              "rain_sum            float64\n",
              "week_date    datetime64[ns]\n",
              "dtype: object"
            ]
          },
          "metadata": {},
          "execution_count": 63
        }
      ]
    },
    {
      "cell_type": "code",
      "source": [
        "###print(df_hw23.index)"
      ],
      "metadata": {
        "id": "RnxqxbCZbtBJ"
      },
      "execution_count": null,
      "outputs": []
    },
    {
      "cell_type": "code",
      "source": [
        "df_hw23.set_index('week_date', inplace = True)\n",
        "df_hw23weekly = df_hw23.resample('W').sum()"
      ],
      "metadata": {
        "id": "1CIRheepa67k",
        "colab": {
          "base_uri": "https://localhost:8080/"
        },
        "outputId": "272f2918-0121-497d-ec9c-545324444e4b"
      },
      "execution_count": null,
      "outputs": [
        {
          "output_type": "stream",
          "name": "stderr",
          "text": [
            "<ipython-input-64-cb51f11c097c>:2: FutureWarning: The default value of numeric_only in DataFrameGroupBy.sum is deprecated. In a future version, numeric_only will default to False. Either specify numeric_only or select only columns which should be valid for the function.\n",
            "  df_hw23weekly = df_hw23.resample('W').sum()\n"
          ]
        }
      ]
    },
    {
      "cell_type": "code",
      "source": [
        "print(df_hw23weekly)"
      ],
      "metadata": {
        "colab": {
          "base_uri": "https://localhost:8080/"
        },
        "id": "k6eG-PTphBra",
        "outputId": "2c959dcd-29de-4375-a5e3-6b5d1b409716"
      },
      "execution_count": null,
      "outputs": [
        {
          "output_type": "stream",
          "name": "stdout",
          "text": [
            "            rain_sum\n",
            "week_date           \n",
            "2023-06-11     0.753\n",
            "2023-06-18     0.032\n",
            "2023-06-25     1.163\n",
            "2023-07-02     1.208\n",
            "2023-07-09     0.846\n",
            "2023-07-16     1.167\n",
            "2023-07-23     0.336\n"
          ]
        }
      ]
    },
    {
      "cell_type": "markdown",
      "source": [
        "Creating a dictionary using the data from my personal rain gauge."
      ],
      "metadata": {
        "id": "0r0w8IjYjYQS"
      }
    },
    {
      "cell_type": "code",
      "source": [
        "gauge_data = {'week_date': ['2023-07-23', '2023-07-16', '2023-07-09', '2023-07-02', '2023-06-25', '2023-06-18', '2023-06-11'], 'rain_sum': [0.46, 0.67, 0.46, 1.44, 1.52, 0.52, 1.00]}\n",
        "print(gauge_data)"
      ],
      "metadata": {
        "colab": {
          "base_uri": "https://localhost:8080/"
        },
        "id": "VvvktbV2NrXp",
        "outputId": "12fe5d3e-fb33-48e7-8419-0eba3a344b13"
      },
      "execution_count": null,
      "outputs": [
        {
          "output_type": "stream",
          "name": "stdout",
          "text": [
            "{'week_date': ['2023-07-23', '2023-07-16', '2023-07-09', '2023-07-02', '2023-06-25', '2023-06-18', '2023-06-11'], 'rain_sum': [0.46, 0.67, 0.46, 1.44, 1.52, 0.52, 1.0]}\n"
          ]
        }
      ]
    },
    {
      "cell_type": "markdown",
      "source": [
        "Converting that dictionary to a dataframe."
      ],
      "metadata": {
        "id": "bxIxXNecjh7a"
      }
    },
    {
      "cell_type": "code",
      "source": [
        "gauge_df = pd.DataFrame.from_dict(gauge_data)\n",
        "print(gauge_df)"
      ],
      "metadata": {
        "id": "iQfAmY4kR_P7",
        "colab": {
          "base_uri": "https://localhost:8080/"
        },
        "outputId": "6fed2998-74f3-4cc4-a5ce-3aad0e0f6cb7"
      },
      "execution_count": null,
      "outputs": [
        {
          "output_type": "stream",
          "name": "stdout",
          "text": [
            "    week_date  rain_sum\n",
            "0  2023-07-23      0.46\n",
            "1  2023-07-16      0.67\n",
            "2  2023-07-09      0.46\n",
            "3  2023-07-02      1.44\n",
            "4  2023-06-25      1.52\n",
            "5  2023-06-18      0.52\n",
            "6  2023-06-11      1.00\n"
          ]
        }
      ]
    },
    {
      "cell_type": "code",
      "source": [
        "conn = connect(':memory')\n",
        "df_hw22weekly.to_sql(\"df_hw22weekly_1\", conn)\n",
        "df_hw23weekly.to_sql(\"df_hw23weekly_2\", conn)\n",
        "gauge_df.to_sql(\"gauge_df_3\", conn)\n",
        "def sql(a_string):\n",
        "  return(pd.read_sql(a_string, conn))\n"
      ],
      "metadata": {
        "id": "oKzmFCK-tX-r"
      },
      "execution_count": null,
      "outputs": []
    },
    {
      "cell_type": "code",
      "source": [
        "sql(\"\"\"SELECT\n",
        "    *\n",
        "    FROM\n",
        "     df_hw22weekly_1 AS a\n",
        "    INNER JOIN\n",
        "     df_hw23weekly_2 AS b\n",
        "    ON\n",
        "     SUBSTRING(CAST(a.week_date as varchar),6,5)=SUBSTRING(CAST(b.week_date as varchar(6,5))\n",
        "    INNER JOIN\n",
        "     gauge_df_3 AS c\n",
        "    ON\n",
        "     SUBSTRING(CAST(b.week_date as varchar),6,5)=SUBSTRING(CAST(c.week_date as varchar(6,5))\n",
        "     \"\"\")"
      ],
      "metadata": {
        "colab": {
          "base_uri": "https://localhost:8080/",
          "height": 670
        },
        "id": "9TkkJPoArhHe",
        "outputId": "d935746a-30f4-408e-cd6b-d93e4f8b9fd5"
      },
      "execution_count": null,
      "outputs": [
        {
          "output_type": "error",
          "ename": "DatabaseError",
          "evalue": "ignored",
          "traceback": [
            "\u001b[0;31m---------------------------------------------------------------------------\u001b[0m",
            "\u001b[0;31mOperationalError\u001b[0m                          Traceback (most recent call last)",
            "\u001b[0;32m/usr/local/lib/python3.10/dist-packages/pandas/io/sql.py\u001b[0m in \u001b[0;36mexecute\u001b[0;34m(self, *args, **kwargs)\u001b[0m\n\u001b[1;32m   2017\u001b[0m         \u001b[0;32mtry\u001b[0m\u001b[0;34m:\u001b[0m\u001b[0;34m\u001b[0m\u001b[0;34m\u001b[0m\u001b[0m\n\u001b[0;32m-> 2018\u001b[0;31m             \u001b[0mcur\u001b[0m\u001b[0;34m.\u001b[0m\u001b[0mexecute\u001b[0m\u001b[0;34m(\u001b[0m\u001b[0;34m*\u001b[0m\u001b[0margs\u001b[0m\u001b[0;34m,\u001b[0m \u001b[0;34m**\u001b[0m\u001b[0mkwargs\u001b[0m\u001b[0;34m)\u001b[0m\u001b[0;34m\u001b[0m\u001b[0;34m\u001b[0m\u001b[0m\n\u001b[0m\u001b[1;32m   2019\u001b[0m             \u001b[0;32mreturn\u001b[0m \u001b[0mcur\u001b[0m\u001b[0;34m\u001b[0m\u001b[0;34m\u001b[0m\u001b[0m\n",
            "\u001b[0;31mOperationalError\u001b[0m: near \"INNER\": syntax error",
            "\nThe above exception was the direct cause of the following exception:\n",
            "\u001b[0;31mDatabaseError\u001b[0m                             Traceback (most recent call last)",
            "\u001b[0;32m<ipython-input-71-997fa1452045>\u001b[0m in \u001b[0;36m<cell line: 1>\u001b[0;34m()\u001b[0m\n\u001b[0;32m----> 1\u001b[0;31m sql(\"\"\"SELECT\n\u001b[0m\u001b[1;32m      2\u001b[0m     \u001b[0;34m*\u001b[0m\u001b[0;34m\u001b[0m\u001b[0;34m\u001b[0m\u001b[0m\n\u001b[1;32m      3\u001b[0m     \u001b[0mFROM\u001b[0m\u001b[0;34m\u001b[0m\u001b[0;34m\u001b[0m\u001b[0m\n\u001b[1;32m      4\u001b[0m      \u001b[0mdf_hw22weekly_1\u001b[0m \u001b[0mAS\u001b[0m \u001b[0ma\u001b[0m\u001b[0;34m\u001b[0m\u001b[0;34m\u001b[0m\u001b[0m\n\u001b[1;32m      5\u001b[0m     \u001b[0mINNER\u001b[0m \u001b[0mJOIN\u001b[0m\u001b[0;34m\u001b[0m\u001b[0;34m\u001b[0m\u001b[0m\n",
            "\u001b[0;32m<ipython-input-70-f2e1114df727>\u001b[0m in \u001b[0;36msql\u001b[0;34m(a_string)\u001b[0m\n\u001b[1;32m      4\u001b[0m \u001b[0mgauge_df\u001b[0m\u001b[0;34m.\u001b[0m\u001b[0mto_sql\u001b[0m\u001b[0;34m(\u001b[0m\u001b[0;34m\"gauge_df_3\"\u001b[0m\u001b[0;34m,\u001b[0m \u001b[0mconn\u001b[0m\u001b[0;34m)\u001b[0m\u001b[0;34m\u001b[0m\u001b[0;34m\u001b[0m\u001b[0m\n\u001b[1;32m      5\u001b[0m \u001b[0;32mdef\u001b[0m \u001b[0msql\u001b[0m\u001b[0;34m(\u001b[0m\u001b[0ma_string\u001b[0m\u001b[0;34m)\u001b[0m\u001b[0;34m:\u001b[0m\u001b[0;34m\u001b[0m\u001b[0;34m\u001b[0m\u001b[0m\n\u001b[0;32m----> 6\u001b[0;31m   \u001b[0;32mreturn\u001b[0m\u001b[0;34m(\u001b[0m\u001b[0mpd\u001b[0m\u001b[0;34m.\u001b[0m\u001b[0mread_sql\u001b[0m\u001b[0;34m(\u001b[0m\u001b[0ma_string\u001b[0m\u001b[0;34m,\u001b[0m \u001b[0mconn\u001b[0m\u001b[0;34m)\u001b[0m\u001b[0;34m)\u001b[0m\u001b[0;34m\u001b[0m\u001b[0;34m\u001b[0m\u001b[0m\n\u001b[0m",
            "\u001b[0;32m/usr/local/lib/python3.10/dist-packages/pandas/io/sql.py\u001b[0m in \u001b[0;36mread_sql\u001b[0;34m(sql, con, index_col, coerce_float, params, parse_dates, columns, chunksize)\u001b[0m\n\u001b[1;32m    562\u001b[0m \u001b[0;34m\u001b[0m\u001b[0m\n\u001b[1;32m    563\u001b[0m     \u001b[0;32mif\u001b[0m \u001b[0misinstance\u001b[0m\u001b[0;34m(\u001b[0m\u001b[0mpandas_sql\u001b[0m\u001b[0;34m,\u001b[0m \u001b[0mSQLiteDatabase\u001b[0m\u001b[0;34m)\u001b[0m\u001b[0;34m:\u001b[0m\u001b[0;34m\u001b[0m\u001b[0;34m\u001b[0m\u001b[0m\n\u001b[0;32m--> 564\u001b[0;31m         return pandas_sql.read_query(\n\u001b[0m\u001b[1;32m    565\u001b[0m             \u001b[0msql\u001b[0m\u001b[0;34m,\u001b[0m\u001b[0;34m\u001b[0m\u001b[0;34m\u001b[0m\u001b[0m\n\u001b[1;32m    566\u001b[0m             \u001b[0mindex_col\u001b[0m\u001b[0;34m=\u001b[0m\u001b[0mindex_col\u001b[0m\u001b[0;34m,\u001b[0m\u001b[0;34m\u001b[0m\u001b[0;34m\u001b[0m\u001b[0m\n",
            "\u001b[0;32m/usr/local/lib/python3.10/dist-packages/pandas/io/sql.py\u001b[0m in \u001b[0;36mread_query\u001b[0;34m(self, sql, index_col, coerce_float, params, parse_dates, chunksize, dtype)\u001b[0m\n\u001b[1;32m   2076\u001b[0m \u001b[0;34m\u001b[0m\u001b[0m\n\u001b[1;32m   2077\u001b[0m         \u001b[0margs\u001b[0m \u001b[0;34m=\u001b[0m \u001b[0m_convert_params\u001b[0m\u001b[0;34m(\u001b[0m\u001b[0msql\u001b[0m\u001b[0;34m,\u001b[0m \u001b[0mparams\u001b[0m\u001b[0;34m)\u001b[0m\u001b[0;34m\u001b[0m\u001b[0;34m\u001b[0m\u001b[0m\n\u001b[0;32m-> 2078\u001b[0;31m         \u001b[0mcursor\u001b[0m \u001b[0;34m=\u001b[0m \u001b[0mself\u001b[0m\u001b[0;34m.\u001b[0m\u001b[0mexecute\u001b[0m\u001b[0;34m(\u001b[0m\u001b[0;34m*\u001b[0m\u001b[0margs\u001b[0m\u001b[0;34m)\u001b[0m\u001b[0;34m\u001b[0m\u001b[0;34m\u001b[0m\u001b[0m\n\u001b[0m\u001b[1;32m   2079\u001b[0m         \u001b[0mcolumns\u001b[0m \u001b[0;34m=\u001b[0m \u001b[0;34m[\u001b[0m\u001b[0mcol_desc\u001b[0m\u001b[0;34m[\u001b[0m\u001b[0;36m0\u001b[0m\u001b[0;34m]\u001b[0m \u001b[0;32mfor\u001b[0m \u001b[0mcol_desc\u001b[0m \u001b[0;32min\u001b[0m \u001b[0mcursor\u001b[0m\u001b[0;34m.\u001b[0m\u001b[0mdescription\u001b[0m\u001b[0;34m]\u001b[0m\u001b[0;34m\u001b[0m\u001b[0;34m\u001b[0m\u001b[0m\n\u001b[1;32m   2080\u001b[0m \u001b[0;34m\u001b[0m\u001b[0m\n",
            "\u001b[0;32m/usr/local/lib/python3.10/dist-packages/pandas/io/sql.py\u001b[0m in \u001b[0;36mexecute\u001b[0;34m(self, *args, **kwargs)\u001b[0m\n\u001b[1;32m   2028\u001b[0m \u001b[0;34m\u001b[0m\u001b[0m\n\u001b[1;32m   2029\u001b[0m             \u001b[0mex\u001b[0m \u001b[0;34m=\u001b[0m \u001b[0mDatabaseError\u001b[0m\u001b[0;34m(\u001b[0m\u001b[0;34mf\"Execution failed on sql '{args[0]}': {exc}\"\u001b[0m\u001b[0;34m)\u001b[0m\u001b[0;34m\u001b[0m\u001b[0;34m\u001b[0m\u001b[0m\n\u001b[0;32m-> 2030\u001b[0;31m             \u001b[0;32mraise\u001b[0m \u001b[0mex\u001b[0m \u001b[0;32mfrom\u001b[0m \u001b[0mexc\u001b[0m\u001b[0;34m\u001b[0m\u001b[0;34m\u001b[0m\u001b[0m\n\u001b[0m\u001b[1;32m   2031\u001b[0m \u001b[0;34m\u001b[0m\u001b[0m\n\u001b[1;32m   2032\u001b[0m     \u001b[0;34m@\u001b[0m\u001b[0mstaticmethod\u001b[0m\u001b[0;34m\u001b[0m\u001b[0;34m\u001b[0m\u001b[0m\n",
            "\u001b[0;31mDatabaseError\u001b[0m: Execution failed on sql 'SELECT\n    *\n    FROM\n     df_hw22weekly_1 AS a\n    INNER JOIN\n     df_hw23weekly_2 AS b\n    ON\n     SUBSTRING(CAST(a.week_date as varchar),6,5)=SUBSTRING(CAST(b.week_date as varchar(6,5))\n    INNER JOIN\n     gauge_df_3 AS c\n    ON\n     SUBSTRING(CAST(b.week_date as varchar),6,5)=SUBSTRING(CAST(c.week_date as varchar(6,5))\n     ': near \"INNER\": syntax error"
          ]
        }
      ]
    }
  ]
}